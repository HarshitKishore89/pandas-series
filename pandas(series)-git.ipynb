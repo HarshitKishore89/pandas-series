{
 "cells": [
  {
   "metadata": {},
   "cell_type": "markdown",
   "source": [
    "# This is a sample Jupyter Notebook\n",
    "\n",
    "Below is an example of a code cell. \n",
    "Put your cursor into the cell and press Shift+Enter to execute it and select the next one, or click 'Run Cell' button.\n",
    "\n",
    "Press Double Shift to search everywhere for classes, files, tool windows, actions, and settings.\n",
    "\n",
    "To learn more about Jupyter Notebooks in PyCharm, see [help](https://www.jetbrains.com/help/pycharm/ipython-notebook-support.html).\n",
    "For an overview of PyCharm, go to Help -> Learn IDE features or refer to [our documentation](https://www.jetbrains.com/help/pycharm/getting-started.html)."
   ],
   "id": "8a77807f92f26ee"
  },
  {
   "metadata": {
    "ExecuteTime": {
     "end_time": "2025-05-09T04:40:17.111958Z",
     "start_time": "2025-05-09T04:40:17.005621Z"
    }
   },
   "cell_type": "code",
   "source": [
    "from numpy.ma.core import squeeze\n",
    "\n",
    "print(\"Hello World!\")\n",
    "\n"
   ],
   "id": "fbc121e30a2defb3",
   "outputs": [
    {
     "name": "stdout",
     "output_type": "stream",
     "text": [
      "Hello World!\n"
     ]
    }
   ],
   "execution_count": 2
  },
  {
   "metadata": {
    "ExecuteTime": {
     "end_time": "2025-05-09T04:40:17.627900Z",
     "start_time": "2025-05-09T04:40:17.129110Z"
    }
   },
   "cell_type": "code",
   "source": [
    "import numpy as np\n",
    "import pandas as pd\n"
   ],
   "id": "e212759ab66ed793",
   "outputs": [],
   "execution_count": 3
  },
  {
   "metadata": {
    "ExecuteTime": {
     "end_time": "2025-05-09T04:40:17.647773Z",
     "start_time": "2025-05-09T04:40:17.639114Z"
    }
   },
   "cell_type": "code",
   "source": [
    "country = ['india','pakistan','usa','nepal','srilanka']\n",
    "pd.Series(country)"
   ],
   "id": "c23c2d5bb5c04941",
   "outputs": [
    {
     "data": {
      "text/plain": [
       "0       india\n",
       "1    pakistan\n",
       "2         usa\n",
       "3       nepal\n",
       "4    srilanka\n",
       "dtype: object"
      ]
     },
     "execution_count": 4,
     "metadata": {},
     "output_type": "execute_result"
    }
   ],
   "execution_count": 4
  },
  {
   "metadata": {
    "ExecuteTime": {
     "end_time": "2025-05-09T04:40:17.704688Z",
     "start_time": "2025-05-09T04:40:17.701688Z"
    }
   },
   "cell_type": "code",
   "source": [
    "#integer\n",
    "run=[12,3,3,4,55,6,7,777,7,]\n",
    "runs_series=pd.Series(run)"
   ],
   "id": "72a8a6efe1300d81",
   "outputs": [],
   "execution_count": 5
  },
  {
   "metadata": {
    "ExecuteTime": {
     "end_time": "2025-05-09T04:40:17.762834Z",
     "start_time": "2025-05-09T04:40:17.756852Z"
    }
   },
   "cell_type": "code",
   "source": [
    "#custom index\n",
    "marks = [67,57,98,20]\n",
    "subjects = ['maths','english','scinence','hindi']\n",
    "\n",
    "pd.Series(marks,index=subjects)\n"
   ],
   "id": "1f49ae973da9017",
   "outputs": [
    {
     "data": {
      "text/plain": [
       "maths       67\n",
       "english     57\n",
       "scinence    98\n",
       "hindi       20\n",
       "dtype: int64"
      ]
     },
     "execution_count": 6,
     "metadata": {},
     "output_type": "execute_result"
    }
   ],
   "execution_count": 6
  },
  {
   "metadata": {
    "ExecuteTime": {
     "end_time": "2025-05-09T04:40:17.857268Z",
     "start_time": "2025-05-09T04:40:17.852860Z"
    }
   },
   "cell_type": "code",
   "source": [
    "# setting a  name\n",
    "marks=pd.Series(marks,index=subjects,name='harshit')\n",
    "marks"
   ],
   "id": "1cc9af1f8574ef31",
   "outputs": [
    {
     "data": {
      "text/plain": [
       "maths       67\n",
       "english     57\n",
       "scinence    98\n",
       "hindi       20\n",
       "Name: harshit, dtype: int64"
      ]
     },
     "execution_count": 7,
     "metadata": {},
     "output_type": "execute_result"
    }
   ],
   "execution_count": 7
  },
  {
   "metadata": {
    "ExecuteTime": {
     "end_time": "2025-05-09T04:40:17.977724Z",
     "start_time": "2025-05-09T04:40:17.972792Z"
    }
   },
   "cell_type": "code",
   "source": [
    "#series from dict\n",
    "marks={\n",
    "    'maths':67,\n",
    "    'english':57,\n",
    "    'scinence':98,\n",
    "    'hindi':20,\n",
    "}\n",
    "marks_series=pd.Series(marks,name='harshit')\n",
    "marks_series"
   ],
   "id": "4ec5be84c48fd08a",
   "outputs": [
    {
     "data": {
      "text/plain": [
       "maths       67\n",
       "english     57\n",
       "scinence    98\n",
       "hindi       20\n",
       "Name: harshit, dtype: int64"
      ]
     },
     "execution_count": 8,
     "metadata": {},
     "output_type": "execute_result"
    }
   ],
   "execution_count": 8
  },
  {
   "metadata": {
    "ExecuteTime": {
     "end_time": "2025-05-09T04:40:18.088825Z",
     "start_time": "2025-05-09T04:40:18.084878Z"
    }
   },
   "cell_type": "code",
   "source": [
    "#size\n",
    "marks_series.size"
   ],
   "id": "25ab78f4c8f2307d",
   "outputs": [
    {
     "data": {
      "text/plain": [
       "4"
      ]
     },
     "execution_count": 9,
     "metadata": {},
     "output_type": "execute_result"
    }
   ],
   "execution_count": 9
  },
  {
   "metadata": {
    "ExecuteTime": {
     "end_time": "2025-05-09T04:40:18.217396Z",
     "start_time": "2025-05-09T04:40:18.213131Z"
    }
   },
   "cell_type": "code",
   "source": [
    "# dtype\n",
    "marks_series.dtype"
   ],
   "id": "19f9b6515e739716",
   "outputs": [
    {
     "data": {
      "text/plain": [
       "dtype('int64')"
      ]
     },
     "execution_count": 10,
     "metadata": {},
     "output_type": "execute_result"
    }
   ],
   "execution_count": 10
  },
  {
   "metadata": {},
   "cell_type": "markdown",
   "source": "",
   "id": "2ad98177b936d380"
  },
  {
   "metadata": {
    "ExecuteTime": {
     "end_time": "2025-05-09T04:40:18.288488Z",
     "start_time": "2025-05-09T04:40:18.283090Z"
    }
   },
   "cell_type": "code",
   "source": [
    "#name\n",
    "marks_series.name"
   ],
   "id": "283822231b0f2c95",
   "outputs": [
    {
     "data": {
      "text/plain": [
       "'harshit'"
      ]
     },
     "execution_count": 11,
     "metadata": {},
     "output_type": "execute_result"
    }
   ],
   "execution_count": 11
  },
  {
   "metadata": {
    "ExecuteTime": {
     "end_time": "2025-05-09T04:40:18.368632Z",
     "start_time": "2025-05-09T04:40:18.364689Z"
    }
   },
   "cell_type": "code",
   "source": [
    "#is_unique\n",
    "marks_series.is_unique"
   ],
   "id": "1708cf593bbd2c4b",
   "outputs": [
    {
     "data": {
      "text/plain": [
       "True"
      ]
     },
     "execution_count": 12,
     "metadata": {},
     "output_type": "execute_result"
    }
   ],
   "execution_count": 12
  },
  {
   "metadata": {
    "ExecuteTime": {
     "end_time": "2025-05-09T04:40:18.426582Z",
     "start_time": "2025-05-09T04:40:18.421637Z"
    }
   },
   "cell_type": "code",
   "source": [
    "#index\n",
    "marks_series.index\n",
    "\n",
    "\n"
   ],
   "id": "e85c079d3702f658",
   "outputs": [
    {
     "data": {
      "text/plain": [
       "Index(['maths', 'english', 'scinence', 'hindi'], dtype='object')"
      ]
     },
     "execution_count": 13,
     "metadata": {},
     "output_type": "execute_result"
    }
   ],
   "execution_count": 13
  },
  {
   "metadata": {
    "ExecuteTime": {
     "end_time": "2025-05-09T04:40:18.481487Z",
     "start_time": "2025-05-09T04:40:18.477490Z"
    }
   },
   "cell_type": "code",
   "source": "runs_series.index",
   "id": "be5448be98cc582c",
   "outputs": [
    {
     "data": {
      "text/plain": [
       "RangeIndex(start=0, stop=9, step=1)"
      ]
     },
     "execution_count": 14,
     "metadata": {},
     "output_type": "execute_result"
    }
   ],
   "execution_count": 14
  },
  {
   "metadata": {
    "ExecuteTime": {
     "end_time": "2025-05-09T04:40:18.528057Z",
     "start_time": "2025-05-09T04:40:18.523270Z"
    }
   },
   "cell_type": "code",
   "source": [
    "#values\n",
    "marks_series.values"
   ],
   "id": "3385dd4d155c1567",
   "outputs": [
    {
     "data": {
      "text/plain": [
       "array([67, 57, 98, 20])"
      ]
     },
     "execution_count": 15,
     "metadata": {},
     "output_type": "execute_result"
    }
   ],
   "execution_count": 15
  },
  {
   "metadata": {},
   "cell_type": "markdown",
   "source": "",
   "id": "931faad76e665926"
  },
  {
   "metadata": {},
   "cell_type": "markdown",
   "source": "series using read_csv\n",
   "id": "9304850eb605ff40"
  },
  {
   "metadata": {
    "ExecuteTime": {
     "end_time": "2025-05-09T04:40:18.578383Z",
     "start_time": "2025-05-09T04:40:18.567923Z"
    }
   },
   "cell_type": "code",
   "source": "pd.read_csv('/Users/harshitkishore/Downloads/subs.csv')",
   "id": "93244e28964f1340",
   "outputs": [
    {
     "data": {
      "text/plain": [
       "     Subscribers gained\n",
       "0                    48\n",
       "1                    57\n",
       "2                    40\n",
       "3                    43\n",
       "4                    44\n",
       "..                  ...\n",
       "360                 231\n",
       "361                 226\n",
       "362                 155\n",
       "363                 144\n",
       "364                 172\n",
       "\n",
       "[365 rows x 1 columns]"
      ],
      "text/html": [
       "<div>\n",
       "<style scoped>\n",
       "    .dataframe tbody tr th:only-of-type {\n",
       "        vertical-align: middle;\n",
       "    }\n",
       "\n",
       "    .dataframe tbody tr th {\n",
       "        vertical-align: top;\n",
       "    }\n",
       "\n",
       "    .dataframe thead th {\n",
       "        text-align: right;\n",
       "    }\n",
       "</style>\n",
       "<table border=\"1\" class=\"dataframe\">\n",
       "  <thead>\n",
       "    <tr style=\"text-align: right;\">\n",
       "      <th></th>\n",
       "      <th>Subscribers gained</th>\n",
       "    </tr>\n",
       "  </thead>\n",
       "  <tbody>\n",
       "    <tr>\n",
       "      <th>0</th>\n",
       "      <td>48</td>\n",
       "    </tr>\n",
       "    <tr>\n",
       "      <th>1</th>\n",
       "      <td>57</td>\n",
       "    </tr>\n",
       "    <tr>\n",
       "      <th>2</th>\n",
       "      <td>40</td>\n",
       "    </tr>\n",
       "    <tr>\n",
       "      <th>3</th>\n",
       "      <td>43</td>\n",
       "    </tr>\n",
       "    <tr>\n",
       "      <th>4</th>\n",
       "      <td>44</td>\n",
       "    </tr>\n",
       "    <tr>\n",
       "      <th>...</th>\n",
       "      <td>...</td>\n",
       "    </tr>\n",
       "    <tr>\n",
       "      <th>360</th>\n",
       "      <td>231</td>\n",
       "    </tr>\n",
       "    <tr>\n",
       "      <th>361</th>\n",
       "      <td>226</td>\n",
       "    </tr>\n",
       "    <tr>\n",
       "      <th>362</th>\n",
       "      <td>155</td>\n",
       "    </tr>\n",
       "    <tr>\n",
       "      <th>363</th>\n",
       "      <td>144</td>\n",
       "    </tr>\n",
       "    <tr>\n",
       "      <th>364</th>\n",
       "      <td>172</td>\n",
       "    </tr>\n",
       "  </tbody>\n",
       "</table>\n",
       "<p>365 rows × 1 columns</p>\n",
       "</div>"
      ]
     },
     "execution_count": 16,
     "metadata": {},
     "output_type": "execute_result"
    }
   ],
   "execution_count": 16
  },
  {
   "metadata": {},
   "cell_type": "markdown",
   "source": "convert csv file series\n",
   "id": "d76ac77ae82101c5"
  },
  {
   "metadata": {
    "ExecuteTime": {
     "end_time": "2025-05-09T04:40:18.657714Z",
     "start_time": "2025-05-09T04:40:18.650234Z"
    }
   },
   "cell_type": "code",
   "source": [
    "subs=pd.read_csv('/Users/harshitkishore/Downloads/subs.csv')\n",
    "subs\n",
    "\n"
   ],
   "id": "67be3bd6d407fe50",
   "outputs": [
    {
     "data": {
      "text/plain": [
       "     Subscribers gained\n",
       "0                    48\n",
       "1                    57\n",
       "2                    40\n",
       "3                    43\n",
       "4                    44\n",
       "..                  ...\n",
       "360                 231\n",
       "361                 226\n",
       "362                 155\n",
       "363                 144\n",
       "364                 172\n",
       "\n",
       "[365 rows x 1 columns]"
      ],
      "text/html": [
       "<div>\n",
       "<style scoped>\n",
       "    .dataframe tbody tr th:only-of-type {\n",
       "        vertical-align: middle;\n",
       "    }\n",
       "\n",
       "    .dataframe tbody tr th {\n",
       "        vertical-align: top;\n",
       "    }\n",
       "\n",
       "    .dataframe thead th {\n",
       "        text-align: right;\n",
       "    }\n",
       "</style>\n",
       "<table border=\"1\" class=\"dataframe\">\n",
       "  <thead>\n",
       "    <tr style=\"text-align: right;\">\n",
       "      <th></th>\n",
       "      <th>Subscribers gained</th>\n",
       "    </tr>\n",
       "  </thead>\n",
       "  <tbody>\n",
       "    <tr>\n",
       "      <th>0</th>\n",
       "      <td>48</td>\n",
       "    </tr>\n",
       "    <tr>\n",
       "      <th>1</th>\n",
       "      <td>57</td>\n",
       "    </tr>\n",
       "    <tr>\n",
       "      <th>2</th>\n",
       "      <td>40</td>\n",
       "    </tr>\n",
       "    <tr>\n",
       "      <th>3</th>\n",
       "      <td>43</td>\n",
       "    </tr>\n",
       "    <tr>\n",
       "      <th>4</th>\n",
       "      <td>44</td>\n",
       "    </tr>\n",
       "    <tr>\n",
       "      <th>...</th>\n",
       "      <td>...</td>\n",
       "    </tr>\n",
       "    <tr>\n",
       "      <th>360</th>\n",
       "      <td>231</td>\n",
       "    </tr>\n",
       "    <tr>\n",
       "      <th>361</th>\n",
       "      <td>226</td>\n",
       "    </tr>\n",
       "    <tr>\n",
       "      <th>362</th>\n",
       "      <td>155</td>\n",
       "    </tr>\n",
       "    <tr>\n",
       "      <th>363</th>\n",
       "      <td>144</td>\n",
       "    </tr>\n",
       "    <tr>\n",
       "      <th>364</th>\n",
       "      <td>172</td>\n",
       "    </tr>\n",
       "  </tbody>\n",
       "</table>\n",
       "<p>365 rows × 1 columns</p>\n",
       "</div>"
      ]
     },
     "execution_count": 17,
     "metadata": {},
     "output_type": "execute_result"
    }
   ],
   "execution_count": 17
  },
  {
   "metadata": {
    "ExecuteTime": {
     "end_time": "2025-05-09T04:44:22.172823Z",
     "start_time": "2025-05-09T04:44:22.118715Z"
    }
   },
   "cell_type": "code",
   "source": [
    "kholi=pd.read_csv('/Users/harshitkishore/Downloads/kohli_ipl.csv',index_col='match_no')\n",
    "df=kholi.iloc[:, 0]\n",
    "type(df)\n",
    "#convert datafrane into series"
   ],
   "id": "b9a9b7a359e48234",
   "outputs": [
    {
     "data": {
      "text/plain": [
       "pandas.core.series.Series"
      ]
     },
     "execution_count": 51,
     "metadata": {},
     "output_type": "execute_result"
    }
   ],
   "execution_count": 51
  },
  {
   "metadata": {
    "ExecuteTime": {
     "end_time": "2025-05-09T04:40:19.015570Z",
     "start_time": "2025-05-09T04:40:19.005129Z"
    }
   },
   "cell_type": "code",
   "source": [
    "bolly=pd.read_csv('/Users/harshitkishore/Downloads/bollywood.csv',index_col='movie')\n",
    "df=bolly.iloc[:,0]\n",
    "df"
   ],
   "id": "9c7bd137a8934b1d",
   "outputs": [
    {
     "data": {
      "text/plain": [
       "movie\n",
       "Uri: The Surgical Strike                   Vicky Kaushal\n",
       "Battalion 609                                Vicky Ahuja\n",
       "The Accidental Prime Minister (film)         Anupam Kher\n",
       "Why Cheat India                            Emraan Hashmi\n",
       "Evening Shadows                         Mona Ambegaonkar\n",
       "                                              ...       \n",
       "Hum Tumhare Hain Sanam                    Shah Rukh Khan\n",
       "Aankhen (2002 film)                     Amitabh Bachchan\n",
       "Saathiya (film)                             Vivek Oberoi\n",
       "Company (film)                                Ajay Devgn\n",
       "Awara Paagal Deewana                        Akshay Kumar\n",
       "Name: lead, Length: 1500, dtype: object"
      ]
     },
     "execution_count": 19,
     "metadata": {},
     "output_type": "execute_result"
    }
   ],
   "execution_count": 19
  },
  {
   "metadata": {},
   "cell_type": "markdown",
   "source": "Series method\n",
   "id": "93b17b4b7d9da24c"
  },
  {
   "metadata": {
    "ExecuteTime": {
     "end_time": "2025-05-09T04:40:19.184538Z",
     "start_time": "2025-05-09T04:40:19.178605Z"
    }
   },
   "cell_type": "code",
   "source": [
    "#head and tail\n",
    "subs.head()\n",
    "\n"
   ],
   "id": "958ea987fa011de2",
   "outputs": [
    {
     "data": {
      "text/plain": [
       "   Subscribers gained\n",
       "0                  48\n",
       "1                  57\n",
       "2                  40\n",
       "3                  43\n",
       "4                  44"
      ],
      "text/html": [
       "<div>\n",
       "<style scoped>\n",
       "    .dataframe tbody tr th:only-of-type {\n",
       "        vertical-align: middle;\n",
       "    }\n",
       "\n",
       "    .dataframe tbody tr th {\n",
       "        vertical-align: top;\n",
       "    }\n",
       "\n",
       "    .dataframe thead th {\n",
       "        text-align: right;\n",
       "    }\n",
       "</style>\n",
       "<table border=\"1\" class=\"dataframe\">\n",
       "  <thead>\n",
       "    <tr style=\"text-align: right;\">\n",
       "      <th></th>\n",
       "      <th>Subscribers gained</th>\n",
       "    </tr>\n",
       "  </thead>\n",
       "  <tbody>\n",
       "    <tr>\n",
       "      <th>0</th>\n",
       "      <td>48</td>\n",
       "    </tr>\n",
       "    <tr>\n",
       "      <th>1</th>\n",
       "      <td>57</td>\n",
       "    </tr>\n",
       "    <tr>\n",
       "      <th>2</th>\n",
       "      <td>40</td>\n",
       "    </tr>\n",
       "    <tr>\n",
       "      <th>3</th>\n",
       "      <td>43</td>\n",
       "    </tr>\n",
       "    <tr>\n",
       "      <th>4</th>\n",
       "      <td>44</td>\n",
       "    </tr>\n",
       "  </tbody>\n",
       "</table>\n",
       "</div>"
      ]
     },
     "execution_count": 20,
     "metadata": {},
     "output_type": "execute_result"
    }
   ],
   "execution_count": 20
  },
  {
   "metadata": {
    "ExecuteTime": {
     "end_time": "2025-05-09T04:40:19.410296Z",
     "start_time": "2025-05-09T04:40:19.403719Z"
    }
   },
   "cell_type": "code",
   "source": "subs.tail()",
   "id": "339f6a6e1e8813ed",
   "outputs": [
    {
     "data": {
      "text/plain": [
       "     Subscribers gained\n",
       "360                 231\n",
       "361                 226\n",
       "362                 155\n",
       "363                 144\n",
       "364                 172"
      ],
      "text/html": [
       "<div>\n",
       "<style scoped>\n",
       "    .dataframe tbody tr th:only-of-type {\n",
       "        vertical-align: middle;\n",
       "    }\n",
       "\n",
       "    .dataframe tbody tr th {\n",
       "        vertical-align: top;\n",
       "    }\n",
       "\n",
       "    .dataframe thead th {\n",
       "        text-align: right;\n",
       "    }\n",
       "</style>\n",
       "<table border=\"1\" class=\"dataframe\">\n",
       "  <thead>\n",
       "    <tr style=\"text-align: right;\">\n",
       "      <th></th>\n",
       "      <th>Subscribers gained</th>\n",
       "    </tr>\n",
       "  </thead>\n",
       "  <tbody>\n",
       "    <tr>\n",
       "      <th>360</th>\n",
       "      <td>231</td>\n",
       "    </tr>\n",
       "    <tr>\n",
       "      <th>361</th>\n",
       "      <td>226</td>\n",
       "    </tr>\n",
       "    <tr>\n",
       "      <th>362</th>\n",
       "      <td>155</td>\n",
       "    </tr>\n",
       "    <tr>\n",
       "      <th>363</th>\n",
       "      <td>144</td>\n",
       "    </tr>\n",
       "    <tr>\n",
       "      <th>364</th>\n",
       "      <td>172</td>\n",
       "    </tr>\n",
       "  </tbody>\n",
       "</table>\n",
       "</div>"
      ]
     },
     "execution_count": 21,
     "metadata": {},
     "output_type": "execute_result"
    }
   ],
   "execution_count": 21
  },
  {
   "metadata": {
    "ExecuteTime": {
     "end_time": "2025-05-09T04:40:19.606458Z",
     "start_time": "2025-05-09T04:40:19.598015Z"
    }
   },
   "cell_type": "code",
   "source": [
    "#sample random\n",
    "bolly.sample(12)"
   ],
   "id": "a984fde0549e3c4e",
   "outputs": [
    {
     "data": {
      "text/plain": [
       "                                            lead\n",
       "movie                                           \n",
       "Mr. X (2015 film)                  Emraan Hashmi\n",
       "Bajrangi Bhaijaan                    Salman Khan\n",
       "Spark (2014 film)                 Rati Agnihotri\n",
       "Mastram                              Rahul Bagga\n",
       "Paap                                John Abraham\n",
       "Rules: Pyaar Ka Superhit Formula          Tanuja\n",
       "Rajma Chawal                        Amyra Dastur\n",
       "Dhoom 2                           Hrithik Roshan\n",
       "India's Most Wanted (film)          Arjun Kapoor\n",
       "One Two Three                     Tusshar Kapoor\n",
       "Singh Is Kinng                      Akshay Kumar\n",
       "Chillar Party                       Aarav Khanna"
      ],
      "text/html": [
       "<div>\n",
       "<style scoped>\n",
       "    .dataframe tbody tr th:only-of-type {\n",
       "        vertical-align: middle;\n",
       "    }\n",
       "\n",
       "    .dataframe tbody tr th {\n",
       "        vertical-align: top;\n",
       "    }\n",
       "\n",
       "    .dataframe thead th {\n",
       "        text-align: right;\n",
       "    }\n",
       "</style>\n",
       "<table border=\"1\" class=\"dataframe\">\n",
       "  <thead>\n",
       "    <tr style=\"text-align: right;\">\n",
       "      <th></th>\n",
       "      <th>lead</th>\n",
       "    </tr>\n",
       "    <tr>\n",
       "      <th>movie</th>\n",
       "      <th></th>\n",
       "    </tr>\n",
       "  </thead>\n",
       "  <tbody>\n",
       "    <tr>\n",
       "      <th>Mr. X (2015 film)</th>\n",
       "      <td>Emraan Hashmi</td>\n",
       "    </tr>\n",
       "    <tr>\n",
       "      <th>Bajrangi Bhaijaan</th>\n",
       "      <td>Salman Khan</td>\n",
       "    </tr>\n",
       "    <tr>\n",
       "      <th>Spark (2014 film)</th>\n",
       "      <td>Rati Agnihotri</td>\n",
       "    </tr>\n",
       "    <tr>\n",
       "      <th>Mastram</th>\n",
       "      <td>Rahul Bagga</td>\n",
       "    </tr>\n",
       "    <tr>\n",
       "      <th>Paap</th>\n",
       "      <td>John Abraham</td>\n",
       "    </tr>\n",
       "    <tr>\n",
       "      <th>Rules: Pyaar Ka Superhit Formula</th>\n",
       "      <td>Tanuja</td>\n",
       "    </tr>\n",
       "    <tr>\n",
       "      <th>Rajma Chawal</th>\n",
       "      <td>Amyra Dastur</td>\n",
       "    </tr>\n",
       "    <tr>\n",
       "      <th>Dhoom 2</th>\n",
       "      <td>Hrithik Roshan</td>\n",
       "    </tr>\n",
       "    <tr>\n",
       "      <th>India's Most Wanted (film)</th>\n",
       "      <td>Arjun Kapoor</td>\n",
       "    </tr>\n",
       "    <tr>\n",
       "      <th>One Two Three</th>\n",
       "      <td>Tusshar Kapoor</td>\n",
       "    </tr>\n",
       "    <tr>\n",
       "      <th>Singh Is Kinng</th>\n",
       "      <td>Akshay Kumar</td>\n",
       "    </tr>\n",
       "    <tr>\n",
       "      <th>Chillar Party</th>\n",
       "      <td>Aarav Khanna</td>\n",
       "    </tr>\n",
       "  </tbody>\n",
       "</table>\n",
       "</div>"
      ]
     },
     "execution_count": 22,
     "metadata": {},
     "output_type": "execute_result"
    }
   ],
   "execution_count": 22
  },
  {
   "metadata": {
    "ExecuteTime": {
     "end_time": "2025-05-09T04:40:19.808098Z",
     "start_time": "2025-05-09T04:40:19.797554Z"
    }
   },
   "cell_type": "code",
   "source": [
    "#value count -- bolly\n",
    "\n",
    "bolly.value_counts()"
   ],
   "id": "361982634f7823c8",
   "outputs": [
    {
     "data": {
      "text/plain": [
       "lead            \n",
       "Akshay Kumar        48\n",
       "Amitabh Bachchan    45\n",
       "Ajay Devgn          38\n",
       "Salman Khan         31\n",
       "Sanjay Dutt         26\n",
       "                    ..\n",
       "Kashmira Shah        1\n",
       "Kartik Elangovan     1\n",
       "Karisma Kapoor       1\n",
       "Karan Sharma         1\n",
       "Zulfi Sayed          1\n",
       "Name: count, Length: 566, dtype: int64"
      ]
     },
     "execution_count": 23,
     "metadata": {},
     "output_type": "execute_result"
    }
   ],
   "execution_count": 23
  },
  {
   "metadata": {
    "ExecuteTime": {
     "end_time": "2025-05-09T04:40:19.953243Z",
     "start_time": "2025-05-09T04:40:19.947814Z"
    }
   },
   "cell_type": "code",
   "source": [
    "# sort values -- inplace\n",
    "kholi.sort_values(by='runs',ascending=False).head(1).values[0]"
   ],
   "id": "7fc81bbc2dde5d12",
   "outputs": [
    {
     "data": {
      "text/plain": [
       "array([113])"
      ]
     },
     "execution_count": 24,
     "metadata": {},
     "output_type": "execute_result"
    }
   ],
   "execution_count": 24
  },
  {
   "metadata": {
    "ExecuteTime": {
     "end_time": "2025-05-09T04:40:20.112173Z",
     "start_time": "2025-05-09T04:40:20.106424Z"
    }
   },
   "cell_type": "code",
   "source": "kholi.sort_values(by='runs')",
   "id": "f532fcdff2753956",
   "outputs": [
    {
     "data": {
      "text/plain": [
       "          runs\n",
       "match_no      \n",
       "87           0\n",
       "211          0\n",
       "207          0\n",
       "206          0\n",
       "91           0\n",
       "...        ...\n",
       "164        100\n",
       "120        100\n",
       "123        108\n",
       "126        109\n",
       "128        113\n",
       "\n",
       "[215 rows x 1 columns]"
      ],
      "text/html": [
       "<div>\n",
       "<style scoped>\n",
       "    .dataframe tbody tr th:only-of-type {\n",
       "        vertical-align: middle;\n",
       "    }\n",
       "\n",
       "    .dataframe tbody tr th {\n",
       "        vertical-align: top;\n",
       "    }\n",
       "\n",
       "    .dataframe thead th {\n",
       "        text-align: right;\n",
       "    }\n",
       "</style>\n",
       "<table border=\"1\" class=\"dataframe\">\n",
       "  <thead>\n",
       "    <tr style=\"text-align: right;\">\n",
       "      <th></th>\n",
       "      <th>runs</th>\n",
       "    </tr>\n",
       "    <tr>\n",
       "      <th>match_no</th>\n",
       "      <th></th>\n",
       "    </tr>\n",
       "  </thead>\n",
       "  <tbody>\n",
       "    <tr>\n",
       "      <th>87</th>\n",
       "      <td>0</td>\n",
       "    </tr>\n",
       "    <tr>\n",
       "      <th>211</th>\n",
       "      <td>0</td>\n",
       "    </tr>\n",
       "    <tr>\n",
       "      <th>207</th>\n",
       "      <td>0</td>\n",
       "    </tr>\n",
       "    <tr>\n",
       "      <th>206</th>\n",
       "      <td>0</td>\n",
       "    </tr>\n",
       "    <tr>\n",
       "      <th>91</th>\n",
       "      <td>0</td>\n",
       "    </tr>\n",
       "    <tr>\n",
       "      <th>...</th>\n",
       "      <td>...</td>\n",
       "    </tr>\n",
       "    <tr>\n",
       "      <th>164</th>\n",
       "      <td>100</td>\n",
       "    </tr>\n",
       "    <tr>\n",
       "      <th>120</th>\n",
       "      <td>100</td>\n",
       "    </tr>\n",
       "    <tr>\n",
       "      <th>123</th>\n",
       "      <td>108</td>\n",
       "    </tr>\n",
       "    <tr>\n",
       "      <th>126</th>\n",
       "      <td>109</td>\n",
       "    </tr>\n",
       "    <tr>\n",
       "      <th>128</th>\n",
       "      <td>113</td>\n",
       "    </tr>\n",
       "  </tbody>\n",
       "</table>\n",
       "<p>215 rows × 1 columns</p>\n",
       "</div>"
      ]
     },
     "execution_count": 25,
     "metadata": {},
     "output_type": "execute_result"
    }
   ],
   "execution_count": 25
  },
  {
   "metadata": {
    "ExecuteTime": {
     "end_time": "2025-05-09T04:40:20.202107Z",
     "start_time": "2025-05-09T04:40:20.194549Z"
    }
   },
   "cell_type": "code",
   "source": [
    "#sort index\n",
    "bolly.sort_index()"
   ],
   "id": "7e82acf3ee1d2af1",
   "outputs": [
    {
     "data": {
      "text/plain": [
       "                                        lead\n",
       "movie                                       \n",
       "1920 (film)                 Rajniesh Duggall\n",
       "1920: London                   Sharman Joshi\n",
       "1920: The Evil Returns           Vicky Ahuja\n",
       "1971 (2007 film)              Manoj Bajpayee\n",
       "2 States (2014 film)            Arjun Kapoor\n",
       "...                                      ...\n",
       "Zindagi 50-50                    Veena Malik\n",
       "Zindagi Na Milegi Dobara      Hrithik Roshan\n",
       "Zindagi Tere Naam         Mithun Chakraborty\n",
       "Zokkomon                     Darsheel Safary\n",
       "Zor Lagaa Ke...Haiya!          Meghan Jadhav\n",
       "\n",
       "[1500 rows x 1 columns]"
      ],
      "text/html": [
       "<div>\n",
       "<style scoped>\n",
       "    .dataframe tbody tr th:only-of-type {\n",
       "        vertical-align: middle;\n",
       "    }\n",
       "\n",
       "    .dataframe tbody tr th {\n",
       "        vertical-align: top;\n",
       "    }\n",
       "\n",
       "    .dataframe thead th {\n",
       "        text-align: right;\n",
       "    }\n",
       "</style>\n",
       "<table border=\"1\" class=\"dataframe\">\n",
       "  <thead>\n",
       "    <tr style=\"text-align: right;\">\n",
       "      <th></th>\n",
       "      <th>lead</th>\n",
       "    </tr>\n",
       "    <tr>\n",
       "      <th>movie</th>\n",
       "      <th></th>\n",
       "    </tr>\n",
       "  </thead>\n",
       "  <tbody>\n",
       "    <tr>\n",
       "      <th>1920 (film)</th>\n",
       "      <td>Rajniesh Duggall</td>\n",
       "    </tr>\n",
       "    <tr>\n",
       "      <th>1920: London</th>\n",
       "      <td>Sharman Joshi</td>\n",
       "    </tr>\n",
       "    <tr>\n",
       "      <th>1920: The Evil Returns</th>\n",
       "      <td>Vicky Ahuja</td>\n",
       "    </tr>\n",
       "    <tr>\n",
       "      <th>1971 (2007 film)</th>\n",
       "      <td>Manoj Bajpayee</td>\n",
       "    </tr>\n",
       "    <tr>\n",
       "      <th>2 States (2014 film)</th>\n",
       "      <td>Arjun Kapoor</td>\n",
       "    </tr>\n",
       "    <tr>\n",
       "      <th>...</th>\n",
       "      <td>...</td>\n",
       "    </tr>\n",
       "    <tr>\n",
       "      <th>Zindagi 50-50</th>\n",
       "      <td>Veena Malik</td>\n",
       "    </tr>\n",
       "    <tr>\n",
       "      <th>Zindagi Na Milegi Dobara</th>\n",
       "      <td>Hrithik Roshan</td>\n",
       "    </tr>\n",
       "    <tr>\n",
       "      <th>Zindagi Tere Naam</th>\n",
       "      <td>Mithun Chakraborty</td>\n",
       "    </tr>\n",
       "    <tr>\n",
       "      <th>Zokkomon</th>\n",
       "      <td>Darsheel Safary</td>\n",
       "    </tr>\n",
       "    <tr>\n",
       "      <th>Zor Lagaa Ke...Haiya!</th>\n",
       "      <td>Meghan Jadhav</td>\n",
       "    </tr>\n",
       "  </tbody>\n",
       "</table>\n",
       "<p>1500 rows × 1 columns</p>\n",
       "</div>"
      ]
     },
     "execution_count": 26,
     "metadata": {},
     "output_type": "execute_result"
    }
   ],
   "execution_count": 26
  },
  {
   "metadata": {},
   "cell_type": "markdown",
   "source": "series maths methods\n",
   "id": "50eba04c98699f08"
  },
  {
   "metadata": {
    "ExecuteTime": {
     "end_time": "2025-05-09T04:40:20.315986Z",
     "start_time": "2025-05-09T04:40:20.309757Z"
    }
   },
   "cell_type": "code",
   "source": "kholi.count()",
   "id": "e8a658f1a479fab",
   "outputs": [
    {
     "data": {
      "text/plain": [
       "runs    215\n",
       "dtype: int64"
      ]
     },
     "execution_count": 27,
     "metadata": {},
     "output_type": "execute_result"
    }
   ],
   "execution_count": 27
  },
  {
   "metadata": {
    "ExecuteTime": {
     "end_time": "2025-05-09T04:40:20.488986Z",
     "start_time": "2025-05-09T04:40:20.484125Z"
    }
   },
   "cell_type": "code",
   "source": [
    "# sum and product\n",
    "subs.sum()"
   ],
   "id": "9adc34c0664f8b5d",
   "outputs": [
    {
     "data": {
      "text/plain": [
       "Subscribers gained    49510\n",
       "dtype: int64"
      ]
     },
     "execution_count": 28,
     "metadata": {},
     "output_type": "execute_result"
    }
   ],
   "execution_count": 28
  },
  {
   "metadata": {
    "ExecuteTime": {
     "end_time": "2025-05-09T04:40:20.645366Z",
     "start_time": "2025-05-09T04:40:20.641247Z"
    }
   },
   "cell_type": "code",
   "source": "subs.product()",
   "id": "9cbb85ec606ac9a1",
   "outputs": [
    {
     "data": {
      "text/plain": [
       "Subscribers gained    0\n",
       "dtype: int64"
      ]
     },
     "execution_count": 29,
     "metadata": {},
     "output_type": "execute_result"
    }
   ],
   "execution_count": 29
  },
  {
   "metadata": {
    "ExecuteTime": {
     "end_time": "2025-05-09T04:40:20.938179Z",
     "start_time": "2025-05-09T04:40:20.932381Z"
    }
   },
   "cell_type": "code",
   "source": [
    "# mean - median - mode -   std -   var\n",
    "subs.mean()"
   ],
   "id": "cf559a3b4f8d0624",
   "outputs": [
    {
     "data": {
      "text/plain": [
       "Subscribers gained    135.643836\n",
       "dtype: float64"
      ]
     },
     "execution_count": 30,
     "metadata": {},
     "output_type": "execute_result"
    }
   ],
   "execution_count": 30
  },
  {
   "metadata": {
    "ExecuteTime": {
     "end_time": "2025-05-09T04:40:21.085157Z",
     "start_time": "2025-05-09T04:40:21.079345Z"
    }
   },
   "cell_type": "code",
   "source": "subs.median()",
   "id": "f60d6b5149a24f1c",
   "outputs": [
    {
     "data": {
      "text/plain": [
       "Subscribers gained    123.0\n",
       "dtype: float64"
      ]
     },
     "execution_count": 31,
     "metadata": {},
     "output_type": "execute_result"
    }
   ],
   "execution_count": 31
  },
  {
   "metadata": {
    "ExecuteTime": {
     "end_time": "2025-05-09T04:40:21.236716Z",
     "start_time": "2025-05-09T04:40:21.229288Z"
    }
   },
   "cell_type": "code",
   "source": "bolly.mode()",
   "id": "eb727221ad2f9fc",
   "outputs": [
    {
     "data": {
      "text/plain": [
       "           lead\n",
       "0  Akshay Kumar"
      ],
      "text/html": [
       "<div>\n",
       "<style scoped>\n",
       "    .dataframe tbody tr th:only-of-type {\n",
       "        vertical-align: middle;\n",
       "    }\n",
       "\n",
       "    .dataframe tbody tr th {\n",
       "        vertical-align: top;\n",
       "    }\n",
       "\n",
       "    .dataframe thead th {\n",
       "        text-align: right;\n",
       "    }\n",
       "</style>\n",
       "<table border=\"1\" class=\"dataframe\">\n",
       "  <thead>\n",
       "    <tr style=\"text-align: right;\">\n",
       "      <th></th>\n",
       "      <th>lead</th>\n",
       "    </tr>\n",
       "  </thead>\n",
       "  <tbody>\n",
       "    <tr>\n",
       "      <th>0</th>\n",
       "      <td>Akshay Kumar</td>\n",
       "    </tr>\n",
       "  </tbody>\n",
       "</table>\n",
       "</div>"
      ]
     },
     "execution_count": 32,
     "metadata": {},
     "output_type": "execute_result"
    }
   ],
   "execution_count": 32
  },
  {
   "metadata": {
    "ExecuteTime": {
     "end_time": "2025-05-09T04:40:21.421141Z",
     "start_time": "2025-05-09T04:40:21.416858Z"
    }
   },
   "cell_type": "code",
   "source": "subs.std()",
   "id": "ee7c4f2342e2d395",
   "outputs": [
    {
     "data": {
      "text/plain": [
       "Subscribers gained    62.675023\n",
       "dtype: float64"
      ]
     },
     "execution_count": 33,
     "metadata": {},
     "output_type": "execute_result"
    }
   ],
   "execution_count": 33
  },
  {
   "metadata": {
    "ExecuteTime": {
     "end_time": "2025-05-09T04:40:21.593022Z",
     "start_time": "2025-05-09T04:40:21.588461Z"
    }
   },
   "cell_type": "code",
   "source": "kholi.var()",
   "id": "c0225170f54d893",
   "outputs": [
    {
     "data": {
      "text/plain": [
       "runs    688.002478\n",
       "dtype: float64"
      ]
     },
     "execution_count": 34,
     "metadata": {},
     "output_type": "execute_result"
    }
   ],
   "execution_count": 34
  },
  {
   "metadata": {
    "ExecuteTime": {
     "end_time": "2025-05-09T04:40:21.755914Z",
     "start_time": "2025-05-09T04:40:21.751100Z"
    }
   },
   "cell_type": "code",
   "source": [
    "# min nad max\n",
    "subs.min()"
   ],
   "id": "4531beb9acfc02cd",
   "outputs": [
    {
     "data": {
      "text/plain": [
       "Subscribers gained    33\n",
       "dtype: int64"
      ]
     },
     "execution_count": 35,
     "metadata": {},
     "output_type": "execute_result"
    }
   ],
   "execution_count": 35
  },
  {
   "metadata": {
    "ExecuteTime": {
     "end_time": "2025-05-09T04:40:21.904164Z",
     "start_time": "2025-05-09T04:40:21.899874Z"
    }
   },
   "cell_type": "code",
   "source": "subs.max()",
   "id": "928fa2eaaea8d663",
   "outputs": [
    {
     "data": {
      "text/plain": [
       "Subscribers gained    396\n",
       "dtype: int64"
      ]
     },
     "execution_count": 36,
     "metadata": {},
     "output_type": "execute_result"
    }
   ],
   "execution_count": 36
  },
  {
   "metadata": {
    "ExecuteTime": {
     "end_time": "2025-05-09T04:40:22.093526Z",
     "start_time": "2025-05-09T04:40:22.083669Z"
    }
   },
   "cell_type": "code",
   "source": [
    "#describe\n",
    "subs.describe()"
   ],
   "id": "cbbfc573e73664a7",
   "outputs": [
    {
     "data": {
      "text/plain": [
       "       Subscribers gained\n",
       "count          365.000000\n",
       "mean           135.643836\n",
       "std             62.675023\n",
       "min             33.000000\n",
       "25%             88.000000\n",
       "50%            123.000000\n",
       "75%            177.000000\n",
       "max            396.000000"
      ],
      "text/html": [
       "<div>\n",
       "<style scoped>\n",
       "    .dataframe tbody tr th:only-of-type {\n",
       "        vertical-align: middle;\n",
       "    }\n",
       "\n",
       "    .dataframe tbody tr th {\n",
       "        vertical-align: top;\n",
       "    }\n",
       "\n",
       "    .dataframe thead th {\n",
       "        text-align: right;\n",
       "    }\n",
       "</style>\n",
       "<table border=\"1\" class=\"dataframe\">\n",
       "  <thead>\n",
       "    <tr style=\"text-align: right;\">\n",
       "      <th></th>\n",
       "      <th>Subscribers gained</th>\n",
       "    </tr>\n",
       "  </thead>\n",
       "  <tbody>\n",
       "    <tr>\n",
       "      <th>count</th>\n",
       "      <td>365.000000</td>\n",
       "    </tr>\n",
       "    <tr>\n",
       "      <th>mean</th>\n",
       "      <td>135.643836</td>\n",
       "    </tr>\n",
       "    <tr>\n",
       "      <th>std</th>\n",
       "      <td>62.675023</td>\n",
       "    </tr>\n",
       "    <tr>\n",
       "      <th>min</th>\n",
       "      <td>33.000000</td>\n",
       "    </tr>\n",
       "    <tr>\n",
       "      <th>25%</th>\n",
       "      <td>88.000000</td>\n",
       "    </tr>\n",
       "    <tr>\n",
       "      <th>50%</th>\n",
       "      <td>123.000000</td>\n",
       "    </tr>\n",
       "    <tr>\n",
       "      <th>75%</th>\n",
       "      <td>177.000000</td>\n",
       "    </tr>\n",
       "    <tr>\n",
       "      <th>max</th>\n",
       "      <td>396.000000</td>\n",
       "    </tr>\n",
       "  </tbody>\n",
       "</table>\n",
       "</div>"
      ]
     },
     "execution_count": 37,
     "metadata": {},
     "output_type": "execute_result"
    }
   ],
   "execution_count": 37
  },
  {
   "metadata": {
    "ExecuteTime": {
     "end_time": "2025-05-09T04:40:22.239694Z",
     "start_time": "2025-05-09T04:40:22.237706Z"
    }
   },
   "cell_type": "code",
   "source": "",
   "id": "db7284fd1bc57421",
   "outputs": [],
   "execution_count": null
  },
  {
   "metadata": {},
   "cell_type": "markdown",
   "source": "",
   "id": "54024b0d5a1a32d1"
  },
  {
   "metadata": {},
   "cell_type": "markdown",
   "source": "series indexing\n",
   "id": "3b695d01b7973030"
  },
  {
   "metadata": {
    "ExecuteTime": {
     "end_time": "2025-05-09T04:40:22.395093Z",
     "start_time": "2025-05-09T04:40:22.389411Z"
    }
   },
   "cell_type": "code",
   "source": [
    "\n",
    "#int indexing\n",
    "x = pd.Series([12, 13, 14, 15, 16, 17, 18, 19, 45, 67, 78])\n",
    "x[1]\n",
    "# negitive index pr kaam nhi krta h"
   ],
   "id": "7796e65e77fe5b08",
   "outputs": [
    {
     "data": {
      "text/plain": [
       "np.int64(13)"
      ]
     },
     "execution_count": 38,
     "metadata": {},
     "output_type": "execute_result"
    }
   ],
   "execution_count": 38
  },
  {
   "metadata": {
    "ExecuteTime": {
     "end_time": "2025-05-09T04:40:22.522766Z",
     "start_time": "2025-05-09T04:40:22.516212Z"
    }
   },
   "cell_type": "code",
   "source": "bolly",
   "id": "b566f40024fff49c",
   "outputs": [
    {
     "data": {
      "text/plain": [
       "                                                  lead\n",
       "movie                                                 \n",
       "Uri: The Surgical Strike                 Vicky Kaushal\n",
       "Battalion 609                              Vicky Ahuja\n",
       "The Accidental Prime Minister (film)       Anupam Kher\n",
       "Why Cheat India                          Emraan Hashmi\n",
       "Evening Shadows                       Mona Ambegaonkar\n",
       "...                                                ...\n",
       "Hum Tumhare Hain Sanam                  Shah Rukh Khan\n",
       "Aankhen (2002 film)                   Amitabh Bachchan\n",
       "Saathiya (film)                           Vivek Oberoi\n",
       "Company (film)                              Ajay Devgn\n",
       "Awara Paagal Deewana                      Akshay Kumar\n",
       "\n",
       "[1500 rows x 1 columns]"
      ],
      "text/html": [
       "<div>\n",
       "<style scoped>\n",
       "    .dataframe tbody tr th:only-of-type {\n",
       "        vertical-align: middle;\n",
       "    }\n",
       "\n",
       "    .dataframe tbody tr th {\n",
       "        vertical-align: top;\n",
       "    }\n",
       "\n",
       "    .dataframe thead th {\n",
       "        text-align: right;\n",
       "    }\n",
       "</style>\n",
       "<table border=\"1\" class=\"dataframe\">\n",
       "  <thead>\n",
       "    <tr style=\"text-align: right;\">\n",
       "      <th></th>\n",
       "      <th>lead</th>\n",
       "    </tr>\n",
       "    <tr>\n",
       "      <th>movie</th>\n",
       "      <th></th>\n",
       "    </tr>\n",
       "  </thead>\n",
       "  <tbody>\n",
       "    <tr>\n",
       "      <th>Uri: The Surgical Strike</th>\n",
       "      <td>Vicky Kaushal</td>\n",
       "    </tr>\n",
       "    <tr>\n",
       "      <th>Battalion 609</th>\n",
       "      <td>Vicky Ahuja</td>\n",
       "    </tr>\n",
       "    <tr>\n",
       "      <th>The Accidental Prime Minister (film)</th>\n",
       "      <td>Anupam Kher</td>\n",
       "    </tr>\n",
       "    <tr>\n",
       "      <th>Why Cheat India</th>\n",
       "      <td>Emraan Hashmi</td>\n",
       "    </tr>\n",
       "    <tr>\n",
       "      <th>Evening Shadows</th>\n",
       "      <td>Mona Ambegaonkar</td>\n",
       "    </tr>\n",
       "    <tr>\n",
       "      <th>...</th>\n",
       "      <td>...</td>\n",
       "    </tr>\n",
       "    <tr>\n",
       "      <th>Hum Tumhare Hain Sanam</th>\n",
       "      <td>Shah Rukh Khan</td>\n",
       "    </tr>\n",
       "    <tr>\n",
       "      <th>Aankhen (2002 film)</th>\n",
       "      <td>Amitabh Bachchan</td>\n",
       "    </tr>\n",
       "    <tr>\n",
       "      <th>Saathiya (film)</th>\n",
       "      <td>Vivek Oberoi</td>\n",
       "    </tr>\n",
       "    <tr>\n",
       "      <th>Company (film)</th>\n",
       "      <td>Ajay Devgn</td>\n",
       "    </tr>\n",
       "    <tr>\n",
       "      <th>Awara Paagal Deewana</th>\n",
       "      <td>Akshay Kumar</td>\n",
       "    </tr>\n",
       "  </tbody>\n",
       "</table>\n",
       "<p>1500 rows × 1 columns</p>\n",
       "</div>"
      ]
     },
     "execution_count": 39,
     "metadata": {},
     "output_type": "execute_result"
    }
   ],
   "execution_count": 39
  },
  {
   "metadata": {
    "ExecuteTime": {
     "end_time": "2025-05-09T04:40:22.612052Z",
     "start_time": "2025-05-09T04:40:22.604948Z"
    }
   },
   "cell_type": "code",
   "source": "kholi",
   "id": "472d7c804259cadf",
   "outputs": [
    {
     "data": {
      "text/plain": [
       "          runs\n",
       "match_no      \n",
       "1            1\n",
       "2           23\n",
       "3           13\n",
       "4           12\n",
       "5            1\n",
       "...        ...\n",
       "211          0\n",
       "212         20\n",
       "213         73\n",
       "214         25\n",
       "215          7\n",
       "\n",
       "[215 rows x 1 columns]"
      ],
      "text/html": [
       "<div>\n",
       "<style scoped>\n",
       "    .dataframe tbody tr th:only-of-type {\n",
       "        vertical-align: middle;\n",
       "    }\n",
       "\n",
       "    .dataframe tbody tr th {\n",
       "        vertical-align: top;\n",
       "    }\n",
       "\n",
       "    .dataframe thead th {\n",
       "        text-align: right;\n",
       "    }\n",
       "</style>\n",
       "<table border=\"1\" class=\"dataframe\">\n",
       "  <thead>\n",
       "    <tr style=\"text-align: right;\">\n",
       "      <th></th>\n",
       "      <th>runs</th>\n",
       "    </tr>\n",
       "    <tr>\n",
       "      <th>match_no</th>\n",
       "      <th></th>\n",
       "    </tr>\n",
       "  </thead>\n",
       "  <tbody>\n",
       "    <tr>\n",
       "      <th>1</th>\n",
       "      <td>1</td>\n",
       "    </tr>\n",
       "    <tr>\n",
       "      <th>2</th>\n",
       "      <td>23</td>\n",
       "    </tr>\n",
       "    <tr>\n",
       "      <th>3</th>\n",
       "      <td>13</td>\n",
       "    </tr>\n",
       "    <tr>\n",
       "      <th>4</th>\n",
       "      <td>12</td>\n",
       "    </tr>\n",
       "    <tr>\n",
       "      <th>5</th>\n",
       "      <td>1</td>\n",
       "    </tr>\n",
       "    <tr>\n",
       "      <th>...</th>\n",
       "      <td>...</td>\n",
       "    </tr>\n",
       "    <tr>\n",
       "      <th>211</th>\n",
       "      <td>0</td>\n",
       "    </tr>\n",
       "    <tr>\n",
       "      <th>212</th>\n",
       "      <td>20</td>\n",
       "    </tr>\n",
       "    <tr>\n",
       "      <th>213</th>\n",
       "      <td>73</td>\n",
       "    </tr>\n",
       "    <tr>\n",
       "      <th>214</th>\n",
       "      <td>25</td>\n",
       "    </tr>\n",
       "    <tr>\n",
       "      <th>215</th>\n",
       "      <td>7</td>\n",
       "    </tr>\n",
       "  </tbody>\n",
       "</table>\n",
       "<p>215 rows × 1 columns</p>\n",
       "</div>"
      ]
     },
     "execution_count": 40,
     "metadata": {},
     "output_type": "execute_result"
    }
   ],
   "execution_count": 40
  },
  {
   "metadata": {},
   "cell_type": "markdown",
   "source": "slicing\n",
   "id": "84bc3970cf9080b0"
  },
  {
   "metadata": {
    "ExecuteTime": {
     "end_time": "2025-05-09T04:40:22.734214Z",
     "start_time": "2025-05-09T04:40:22.725438Z"
    }
   },
   "cell_type": "code",
   "source": "bolly[4:61]",
   "id": "2399ae9413379c79",
   "outputs": [
    {
     "data": {
      "text/plain": [
       "                                                      lead\n",
       "movie                                                     \n",
       "Evening Shadows                           Mona Ambegaonkar\n",
       "Soni (film)                           Geetika Vidya Ohlyan\n",
       "Fraud Saiyaan                                 Arshad Warsi\n",
       "Bombairiya                                    Radhika Apte\n",
       "Manikarnika: The Queen of Jhansi            Kangana Ranaut\n",
       "Thackeray (film)                       Nawazuddin Siddiqui\n",
       "Amavas                                           Ali Asgar\n",
       "Gully Boy                                    Ranveer Singh\n",
       "Hum Chaar                                      Prit Kamani\n",
       "Total Dhamaal                                   Ajay Devgn\n",
       "Sonchiriya                            Sushant Singh Rajput\n",
       "Badla (2019 film)                         Amitabh Bachchan\n",
       "Mard Ko Dard Nahi Hota                    Abhimanyu Dasani\n",
       "Hamid (film)                            Talha Arshad Reshi\n",
       "Photograph (film)                      Nawazuddin Siddiqui\n",
       "Risknamaa                                   Garima Agarwal\n",
       "Mere Pyare Prime Minister                    Rasika Agashe\n",
       "22 Yards                                       Barun Sobti\n",
       "Kesari (film)                                 Akshay Kumar\n",
       "Notebook (2019 film)                          Zaheer Iqbal\n",
       "Junglee (2019 film)                         Vidyut Jammwal\n",
       "Gone Kesh                                     Deepika Amin\n",
       "Albert Pinto Ko Gussa Kyun Aata Hai?            Manav Kaul\n",
       "The Tashkent Files                        Naseeruddin Shah\n",
       "Kalank                                        Varun Dhawan\n",
       "Setters (film)                             Shreyas Talpade\n",
       "Student of the Year 2                         Tiger Shroff\n",
       "PM Narendra Modi                               Boman Irani\n",
       "De De Pyaar De                                  Ajay Devgn\n",
       "India's Most Wanted (film)                    Arjun Kapoor\n",
       "Yeh Hai India                                 Gavie Chahal\n",
       "Khamoshi (2019 film)                           Prabhu Deva\n",
       "Kabir Singh                                  Shahid Kapoor\n",
       "Article 15 (film)                       Ayushmann Khurrana\n",
       "One Day: Justice Delivered                     Anupam Kher\n",
       "Hume Tumse Pyaar Kitna                      Karanvir Bohra\n",
       "Super 30 (film)                             Hrithik Roshan\n",
       "Family of Thakurganj                       Jimmy Sheirgill\n",
       "Batla House                                   John Abraham\n",
       "Jhootha Kahin Ka                              Rishi Kapoor\n",
       "Judgementall Hai Kya                        Kangana Ranaut\n",
       "Chicken Curry Law                         Natalia Janoszek\n",
       "Arjun Patiala                               Diljit Dosanjh\n",
       "Jabariya Jodi                            Sidharth Malhotra\n",
       "Pranaam                                  Rajeev Khandelwal\n",
       "The Sky Is Pink                                Zaira Wasim\n",
       "Mission Mangal                                Akshay Kumar\n",
       "Saaho                                 Jacqueline Fernandez\n",
       "Dream Girl (2019 film)                  Ayushmann Khurrana\n",
       "Section 375                                 Akshaye Khanna\n",
       "The Zoya Factor (film)                        Sonam Kapoor\n",
       "Pal Pal Dil Ke Paas                             Karan Deol\n",
       "Prassthanam                                    Sanjay Dutt\n",
       "P Se Pyaar F Se Faraar                       Bhavesh Kumar\n",
       "Ghost (2019 film)                             Sanaya Irani\n",
       "Bala (2019 film)                        Ayushmann Khurrana\n",
       "Yaaram (2019 film)                        Siddhanth Kapoor"
      ],
      "text/html": [
       "<div>\n",
       "<style scoped>\n",
       "    .dataframe tbody tr th:only-of-type {\n",
       "        vertical-align: middle;\n",
       "    }\n",
       "\n",
       "    .dataframe tbody tr th {\n",
       "        vertical-align: top;\n",
       "    }\n",
       "\n",
       "    .dataframe thead th {\n",
       "        text-align: right;\n",
       "    }\n",
       "</style>\n",
       "<table border=\"1\" class=\"dataframe\">\n",
       "  <thead>\n",
       "    <tr style=\"text-align: right;\">\n",
       "      <th></th>\n",
       "      <th>lead</th>\n",
       "    </tr>\n",
       "    <tr>\n",
       "      <th>movie</th>\n",
       "      <th></th>\n",
       "    </tr>\n",
       "  </thead>\n",
       "  <tbody>\n",
       "    <tr>\n",
       "      <th>Evening Shadows</th>\n",
       "      <td>Mona Ambegaonkar</td>\n",
       "    </tr>\n",
       "    <tr>\n",
       "      <th>Soni (film)</th>\n",
       "      <td>Geetika Vidya Ohlyan</td>\n",
       "    </tr>\n",
       "    <tr>\n",
       "      <th>Fraud Saiyaan</th>\n",
       "      <td>Arshad Warsi</td>\n",
       "    </tr>\n",
       "    <tr>\n",
       "      <th>Bombairiya</th>\n",
       "      <td>Radhika Apte</td>\n",
       "    </tr>\n",
       "    <tr>\n",
       "      <th>Manikarnika: The Queen of Jhansi</th>\n",
       "      <td>Kangana Ranaut</td>\n",
       "    </tr>\n",
       "    <tr>\n",
       "      <th>Thackeray (film)</th>\n",
       "      <td>Nawazuddin Siddiqui</td>\n",
       "    </tr>\n",
       "    <tr>\n",
       "      <th>Amavas</th>\n",
       "      <td>Ali Asgar</td>\n",
       "    </tr>\n",
       "    <tr>\n",
       "      <th>Gully Boy</th>\n",
       "      <td>Ranveer Singh</td>\n",
       "    </tr>\n",
       "    <tr>\n",
       "      <th>Hum Chaar</th>\n",
       "      <td>Prit Kamani</td>\n",
       "    </tr>\n",
       "    <tr>\n",
       "      <th>Total Dhamaal</th>\n",
       "      <td>Ajay Devgn</td>\n",
       "    </tr>\n",
       "    <tr>\n",
       "      <th>Sonchiriya</th>\n",
       "      <td>Sushant Singh Rajput</td>\n",
       "    </tr>\n",
       "    <tr>\n",
       "      <th>Badla (2019 film)</th>\n",
       "      <td>Amitabh Bachchan</td>\n",
       "    </tr>\n",
       "    <tr>\n",
       "      <th>Mard Ko Dard Nahi Hota</th>\n",
       "      <td>Abhimanyu Dasani</td>\n",
       "    </tr>\n",
       "    <tr>\n",
       "      <th>Hamid (film)</th>\n",
       "      <td>Talha Arshad Reshi</td>\n",
       "    </tr>\n",
       "    <tr>\n",
       "      <th>Photograph (film)</th>\n",
       "      <td>Nawazuddin Siddiqui</td>\n",
       "    </tr>\n",
       "    <tr>\n",
       "      <th>Risknamaa</th>\n",
       "      <td>Garima Agarwal</td>\n",
       "    </tr>\n",
       "    <tr>\n",
       "      <th>Mere Pyare Prime Minister</th>\n",
       "      <td>Rasika Agashe</td>\n",
       "    </tr>\n",
       "    <tr>\n",
       "      <th>22 Yards</th>\n",
       "      <td>Barun Sobti</td>\n",
       "    </tr>\n",
       "    <tr>\n",
       "      <th>Kesari (film)</th>\n",
       "      <td>Akshay Kumar</td>\n",
       "    </tr>\n",
       "    <tr>\n",
       "      <th>Notebook (2019 film)</th>\n",
       "      <td>Zaheer Iqbal</td>\n",
       "    </tr>\n",
       "    <tr>\n",
       "      <th>Junglee (2019 film)</th>\n",
       "      <td>Vidyut Jammwal</td>\n",
       "    </tr>\n",
       "    <tr>\n",
       "      <th>Gone Kesh</th>\n",
       "      <td>Deepika Amin</td>\n",
       "    </tr>\n",
       "    <tr>\n",
       "      <th>Albert Pinto Ko Gussa Kyun Aata Hai?</th>\n",
       "      <td>Manav Kaul</td>\n",
       "    </tr>\n",
       "    <tr>\n",
       "      <th>The Tashkent Files</th>\n",
       "      <td>Naseeruddin Shah</td>\n",
       "    </tr>\n",
       "    <tr>\n",
       "      <th>Kalank</th>\n",
       "      <td>Varun Dhawan</td>\n",
       "    </tr>\n",
       "    <tr>\n",
       "      <th>Setters (film)</th>\n",
       "      <td>Shreyas Talpade</td>\n",
       "    </tr>\n",
       "    <tr>\n",
       "      <th>Student of the Year 2</th>\n",
       "      <td>Tiger Shroff</td>\n",
       "    </tr>\n",
       "    <tr>\n",
       "      <th>PM Narendra Modi</th>\n",
       "      <td>Boman Irani</td>\n",
       "    </tr>\n",
       "    <tr>\n",
       "      <th>De De Pyaar De</th>\n",
       "      <td>Ajay Devgn</td>\n",
       "    </tr>\n",
       "    <tr>\n",
       "      <th>India's Most Wanted (film)</th>\n",
       "      <td>Arjun Kapoor</td>\n",
       "    </tr>\n",
       "    <tr>\n",
       "      <th>Yeh Hai India</th>\n",
       "      <td>Gavie Chahal</td>\n",
       "    </tr>\n",
       "    <tr>\n",
       "      <th>Khamoshi (2019 film)</th>\n",
       "      <td>Prabhu Deva</td>\n",
       "    </tr>\n",
       "    <tr>\n",
       "      <th>Kabir Singh</th>\n",
       "      <td>Shahid Kapoor</td>\n",
       "    </tr>\n",
       "    <tr>\n",
       "      <th>Article 15 (film)</th>\n",
       "      <td>Ayushmann Khurrana</td>\n",
       "    </tr>\n",
       "    <tr>\n",
       "      <th>One Day: Justice Delivered</th>\n",
       "      <td>Anupam Kher</td>\n",
       "    </tr>\n",
       "    <tr>\n",
       "      <th>Hume Tumse Pyaar Kitna</th>\n",
       "      <td>Karanvir Bohra</td>\n",
       "    </tr>\n",
       "    <tr>\n",
       "      <th>Super 30 (film)</th>\n",
       "      <td>Hrithik Roshan</td>\n",
       "    </tr>\n",
       "    <tr>\n",
       "      <th>Family of Thakurganj</th>\n",
       "      <td>Jimmy Sheirgill</td>\n",
       "    </tr>\n",
       "    <tr>\n",
       "      <th>Batla House</th>\n",
       "      <td>John Abraham</td>\n",
       "    </tr>\n",
       "    <tr>\n",
       "      <th>Jhootha Kahin Ka</th>\n",
       "      <td>Rishi Kapoor</td>\n",
       "    </tr>\n",
       "    <tr>\n",
       "      <th>Judgementall Hai Kya</th>\n",
       "      <td>Kangana Ranaut</td>\n",
       "    </tr>\n",
       "    <tr>\n",
       "      <th>Chicken Curry Law</th>\n",
       "      <td>Natalia Janoszek</td>\n",
       "    </tr>\n",
       "    <tr>\n",
       "      <th>Arjun Patiala</th>\n",
       "      <td>Diljit Dosanjh</td>\n",
       "    </tr>\n",
       "    <tr>\n",
       "      <th>Jabariya Jodi</th>\n",
       "      <td>Sidharth Malhotra</td>\n",
       "    </tr>\n",
       "    <tr>\n",
       "      <th>Pranaam</th>\n",
       "      <td>Rajeev Khandelwal</td>\n",
       "    </tr>\n",
       "    <tr>\n",
       "      <th>The Sky Is Pink</th>\n",
       "      <td>Zaira Wasim</td>\n",
       "    </tr>\n",
       "    <tr>\n",
       "      <th>Mission Mangal</th>\n",
       "      <td>Akshay Kumar</td>\n",
       "    </tr>\n",
       "    <tr>\n",
       "      <th>Saaho</th>\n",
       "      <td>Jacqueline Fernandez</td>\n",
       "    </tr>\n",
       "    <tr>\n",
       "      <th>Dream Girl (2019 film)</th>\n",
       "      <td>Ayushmann Khurrana</td>\n",
       "    </tr>\n",
       "    <tr>\n",
       "      <th>Section 375</th>\n",
       "      <td>Akshaye Khanna</td>\n",
       "    </tr>\n",
       "    <tr>\n",
       "      <th>The Zoya Factor (film)</th>\n",
       "      <td>Sonam Kapoor</td>\n",
       "    </tr>\n",
       "    <tr>\n",
       "      <th>Pal Pal Dil Ke Paas</th>\n",
       "      <td>Karan Deol</td>\n",
       "    </tr>\n",
       "    <tr>\n",
       "      <th>Prassthanam</th>\n",
       "      <td>Sanjay Dutt</td>\n",
       "    </tr>\n",
       "    <tr>\n",
       "      <th>P Se Pyaar F Se Faraar</th>\n",
       "      <td>Bhavesh Kumar</td>\n",
       "    </tr>\n",
       "    <tr>\n",
       "      <th>Ghost (2019 film)</th>\n",
       "      <td>Sanaya Irani</td>\n",
       "    </tr>\n",
       "    <tr>\n",
       "      <th>Bala (2019 film)</th>\n",
       "      <td>Ayushmann Khurrana</td>\n",
       "    </tr>\n",
       "    <tr>\n",
       "      <th>Yaaram (2019 film)</th>\n",
       "      <td>Siddhanth Kapoor</td>\n",
       "    </tr>\n",
       "  </tbody>\n",
       "</table>\n",
       "</div>"
      ]
     },
     "execution_count": 41,
     "metadata": {},
     "output_type": "execute_result"
    }
   ],
   "execution_count": 41
  },
  {
   "metadata": {
    "ExecuteTime": {
     "end_time": "2025-05-09T04:40:22.872493Z",
     "start_time": "2025-05-09T04:40:22.867814Z"
    }
   },
   "cell_type": "code",
   "source": [
    "# negitive slicing\n",
    "bolly[-1:-5]"
   ],
   "id": "7046e58aaedd63de",
   "outputs": [
    {
     "data": {
      "text/plain": [
       "Empty DataFrame\n",
       "Columns: [lead]\n",
       "Index: []"
      ],
      "text/html": [
       "<div>\n",
       "<style scoped>\n",
       "    .dataframe tbody tr th:only-of-type {\n",
       "        vertical-align: middle;\n",
       "    }\n",
       "\n",
       "    .dataframe tbody tr th {\n",
       "        vertical-align: top;\n",
       "    }\n",
       "\n",
       "    .dataframe thead th {\n",
       "        text-align: right;\n",
       "    }\n",
       "</style>\n",
       "<table border=\"1\" class=\"dataframe\">\n",
       "  <thead>\n",
       "    <tr style=\"text-align: right;\">\n",
       "      <th></th>\n",
       "      <th>lead</th>\n",
       "    </tr>\n",
       "    <tr>\n",
       "      <th>movie</th>\n",
       "      <th></th>\n",
       "    </tr>\n",
       "  </thead>\n",
       "  <tbody>\n",
       "  </tbody>\n",
       "</table>\n",
       "</div>"
      ]
     },
     "execution_count": 42,
     "metadata": {},
     "output_type": "execute_result"
    }
   ],
   "execution_count": 42
  },
  {
   "metadata": {
    "ExecuteTime": {
     "end_time": "2025-05-09T04:40:24.148491Z",
     "start_time": "2025-05-09T04:40:23.185752Z"
    }
   },
   "cell_type": "code",
   "source": [
    "#fancy indexing\n",
    "kholi[[1,2,3,4]]"
   ],
   "id": "ef3892b2ad9685ce",
   "outputs": [
    {
     "ename": "KeyError",
     "evalue": "\"None of [Index([1, 2, 3, 4], dtype='int64')] are in the [columns]\"",
     "output_type": "error",
     "traceback": [
      "\u001B[31m---------------------------------------------------------------------------\u001B[39m",
      "\u001B[31mKeyError\u001B[39m                                  Traceback (most recent call last)",
      "\u001B[36mCell\u001B[39m\u001B[36m \u001B[39m\u001B[32mIn[43]\u001B[39m\u001B[32m, line 2\u001B[39m\n\u001B[32m      1\u001B[39m \u001B[38;5;66;03m#fancy indexing\u001B[39;00m\n\u001B[32m----> \u001B[39m\u001B[32m2\u001B[39m \u001B[43mkholi\u001B[49m\u001B[43m[\u001B[49m\u001B[43m[\u001B[49m\u001B[32;43m1\u001B[39;49m\u001B[43m,\u001B[49m\u001B[32;43m2\u001B[39;49m\u001B[43m,\u001B[49m\u001B[32;43m3\u001B[39;49m\u001B[43m,\u001B[49m\u001B[32;43m4\u001B[39;49m\u001B[43m]\u001B[49m\u001B[43m]\u001B[49m\n",
      "\u001B[36mFile \u001B[39m\u001B[32m~/PyCharmMiscProject/.venv/lib/python3.13/site-packages/pandas/core/frame.py:4108\u001B[39m, in \u001B[36mDataFrame.__getitem__\u001B[39m\u001B[34m(self, key)\u001B[39m\n\u001B[32m   4106\u001B[39m     \u001B[38;5;28;01mif\u001B[39;00m is_iterator(key):\n\u001B[32m   4107\u001B[39m         key = \u001B[38;5;28mlist\u001B[39m(key)\n\u001B[32m-> \u001B[39m\u001B[32m4108\u001B[39m     indexer = \u001B[38;5;28;43mself\u001B[39;49m\u001B[43m.\u001B[49m\u001B[43mcolumns\u001B[49m\u001B[43m.\u001B[49m\u001B[43m_get_indexer_strict\u001B[49m\u001B[43m(\u001B[49m\u001B[43mkey\u001B[49m\u001B[43m,\u001B[49m\u001B[43m \u001B[49m\u001B[33;43m\"\u001B[39;49m\u001B[33;43mcolumns\u001B[39;49m\u001B[33;43m\"\u001B[39;49m\u001B[43m)\u001B[49m[\u001B[32m1\u001B[39m]\n\u001B[32m   4110\u001B[39m \u001B[38;5;66;03m# take() does not accept boolean indexers\u001B[39;00m\n\u001B[32m   4111\u001B[39m \u001B[38;5;28;01mif\u001B[39;00m \u001B[38;5;28mgetattr\u001B[39m(indexer, \u001B[33m\"\u001B[39m\u001B[33mdtype\u001B[39m\u001B[33m\"\u001B[39m, \u001B[38;5;28;01mNone\u001B[39;00m) == \u001B[38;5;28mbool\u001B[39m:\n",
      "\u001B[36mFile \u001B[39m\u001B[32m~/PyCharmMiscProject/.venv/lib/python3.13/site-packages/pandas/core/indexes/base.py:6200\u001B[39m, in \u001B[36mIndex._get_indexer_strict\u001B[39m\u001B[34m(self, key, axis_name)\u001B[39m\n\u001B[32m   6197\u001B[39m \u001B[38;5;28;01melse\u001B[39;00m:\n\u001B[32m   6198\u001B[39m     keyarr, indexer, new_indexer = \u001B[38;5;28mself\u001B[39m._reindex_non_unique(keyarr)\n\u001B[32m-> \u001B[39m\u001B[32m6200\u001B[39m \u001B[38;5;28;43mself\u001B[39;49m\u001B[43m.\u001B[49m\u001B[43m_raise_if_missing\u001B[49m\u001B[43m(\u001B[49m\u001B[43mkeyarr\u001B[49m\u001B[43m,\u001B[49m\u001B[43m \u001B[49m\u001B[43mindexer\u001B[49m\u001B[43m,\u001B[49m\u001B[43m \u001B[49m\u001B[43maxis_name\u001B[49m\u001B[43m)\u001B[49m\n\u001B[32m   6202\u001B[39m keyarr = \u001B[38;5;28mself\u001B[39m.take(indexer)\n\u001B[32m   6203\u001B[39m \u001B[38;5;28;01mif\u001B[39;00m \u001B[38;5;28misinstance\u001B[39m(key, Index):\n\u001B[32m   6204\u001B[39m     \u001B[38;5;66;03m# GH 42790 - Preserve name from an Index\u001B[39;00m\n",
      "\u001B[36mFile \u001B[39m\u001B[32m~/PyCharmMiscProject/.venv/lib/python3.13/site-packages/pandas/core/indexes/base.py:6249\u001B[39m, in \u001B[36mIndex._raise_if_missing\u001B[39m\u001B[34m(self, key, indexer, axis_name)\u001B[39m\n\u001B[32m   6247\u001B[39m \u001B[38;5;28;01mif\u001B[39;00m nmissing:\n\u001B[32m   6248\u001B[39m     \u001B[38;5;28;01mif\u001B[39;00m nmissing == \u001B[38;5;28mlen\u001B[39m(indexer):\n\u001B[32m-> \u001B[39m\u001B[32m6249\u001B[39m         \u001B[38;5;28;01mraise\u001B[39;00m \u001B[38;5;167;01mKeyError\u001B[39;00m(\u001B[33mf\u001B[39m\u001B[33m\"\u001B[39m\u001B[33mNone of [\u001B[39m\u001B[38;5;132;01m{\u001B[39;00mkey\u001B[38;5;132;01m}\u001B[39;00m\u001B[33m] are in the [\u001B[39m\u001B[38;5;132;01m{\u001B[39;00maxis_name\u001B[38;5;132;01m}\u001B[39;00m\u001B[33m]\u001B[39m\u001B[33m\"\u001B[39m)\n\u001B[32m   6251\u001B[39m     not_found = \u001B[38;5;28mlist\u001B[39m(ensure_index(key)[missing_mask.nonzero()[\u001B[32m0\u001B[39m]].unique())\n\u001B[32m   6252\u001B[39m     \u001B[38;5;28;01mraise\u001B[39;00m \u001B[38;5;167;01mKeyError\u001B[39;00m(\u001B[33mf\u001B[39m\u001B[33m\"\u001B[39m\u001B[38;5;132;01m{\u001B[39;00mnot_found\u001B[38;5;132;01m}\u001B[39;00m\u001B[33m not in index\u001B[39m\u001B[33m\"\u001B[39m)\n",
      "\u001B[31mKeyError\u001B[39m: \"None of [Index([1, 2, 3, 4], dtype='int64')] are in the [columns]\""
     ]
    }
   ],
   "execution_count": 43
  },
  {
   "metadata": {},
   "cell_type": "markdown",
   "source": "editing series\n",
   "id": "4eb1439294d2226a"
  },
  {
   "metadata": {},
   "cell_type": "code",
   "source": [
    "#using indexing\n",
    "marks[1]=100\n",
    "marks"
   ],
   "id": "110778501bc63e35",
   "outputs": [],
   "execution_count": null
  },
  {
   "metadata": {},
   "cell_type": "code",
   "source": "marks",
   "id": "db877be3d9d233c1",
   "outputs": [],
   "execution_count": null
  },
  {
   "metadata": {},
   "cell_type": "code",
   "source": [
    "#slicing\n",
    "marks [2:4]=[100,100]\n",
    "marks"
   ],
   "id": "357559a9b5bd6118",
   "outputs": [],
   "execution_count": null
  },
  {
   "metadata": {},
   "cell_type": "code",
   "source": [
    "kholi[[0,2,3]]=[0,0,0]\n",
    "kholi"
   ],
   "id": "90c1c03cbeefa7e4",
   "outputs": [],
   "execution_count": null
  },
  {
   "metadata": {},
   "cell_type": "code",
   "source": "",
   "id": "fc67dbae6068903b",
   "outputs": [],
   "execution_count": null
  },
  {
   "metadata": {},
   "cell_type": "code",
   "source": "",
   "id": "7e2c8d1a91ae8db5",
   "outputs": [],
   "execution_count": null
  },
  {
   "metadata": {},
   "cell_type": "markdown",
   "source": "series with python functionalities",
   "id": "a6874a9a8e3ce20d"
  },
  {
   "metadata": {},
   "cell_type": "code",
   "source": [
    "# len / type/ dir / sorted / max/ min\n",
    "\n",
    "print (len(marks))\n",
    "print (type(marks))\n",
    "print (dir(marks))\n",
    "print (sorted(marks))\n",
    "print (max(marks))\n",
    "print (min(marks))"
   ],
   "id": "9c083bb3cade21a2",
   "outputs": [],
   "execution_count": null
  },
  {
   "metadata": {},
   "cell_type": "code",
   "source": [
    "# type conversion\n",
    "list[marks]"
   ],
   "id": "13e5051a19615ac3",
   "outputs": [],
   "execution_count": null
  },
  {
   "metadata": {},
   "cell_type": "code",
   "source": "dict(marks)",
   "id": "3589afcfe5f7a3d6",
   "outputs": [],
   "execution_count": null
  },
  {
   "metadata": {},
   "cell_type": "code",
   "source": [
    "#membership operator\n",
    "bolly"
   ],
   "id": "2ab68114b100265b",
   "outputs": [],
   "execution_count": null
  },
  {
   "metadata": {},
   "cell_type": "code",
   "source": "'Kangana Ranaut' in bolly.values",
   "id": "7d02a38111e8e90",
   "outputs": [],
   "execution_count": null
  },
  {
   "metadata": {},
   "cell_type": "code",
   "source": "'High Jack (film)' in bolly.values\n",
   "id": "e62fb0af13de413e",
   "outputs": [],
   "execution_count": null
  },
  {
   "metadata": {},
   "cell_type": "code",
   "source": [
    "for i in bolly.index:\n",
    "    print (i)"
   ],
   "id": "215392b99ddc0cb0",
   "outputs": [],
   "execution_count": null
  },
  {
   "metadata": {},
   "cell_type": "code",
   "source": [
    "#airthmaric operator(broadcasting)\n",
    "marks_series"
   ],
   "id": "c79b81b29d25c1ef",
   "outputs": [],
   "execution_count": null
  },
  {
   "metadata": {},
   "cell_type": "code",
   "source": "100 + marks_series",
   "id": "b1a253384a4b03",
   "outputs": [],
   "execution_count": null
  },
  {
   "metadata": {},
   "cell_type": "code",
   "source": [
    "#relational operation\n",
    "kholi >=100"
   ],
   "id": "57b2417d7c71f60b",
   "outputs": [],
   "execution_count": null
  },
  {
   "metadata": {},
   "cell_type": "code",
   "source": [
    "# find no of  50 and 100 scored by kholi\n",
    "kholi[kholi>=50]"
   ],
   "id": "7839f3ce6a43217b",
   "outputs": [],
   "execution_count": null
  },
  {
   "metadata": {},
   "cell_type": "code",
   "source": "kholi[kholi>50].size",
   "id": "b0452e659e15d49d",
   "outputs": [],
   "execution_count": null
  },
  {
   "metadata": {},
   "cell_type": "code",
   "source": "kholi==0",
   "id": "fdbe2544fc29553",
   "outputs": [],
   "execution_count": null
  },
  {
   "metadata": {},
   "cell_type": "code",
   "source": "kholi[ kholi  ==  0].size",
   "id": "ef26fdc936edbbe8",
   "outputs": [],
   "execution_count": null
  },
  {
   "metadata": {},
   "cell_type": "code",
   "source": "kholi.size",
   "id": "abfc2f46c34bb1f1",
   "outputs": [],
   "execution_count": null
  },
  {
   "metadata": {},
   "cell_type": "code",
   "source": "bolly\n",
   "id": "d4de9ab1f72d70f7",
   "outputs": [],
   "execution_count": null
  },
  {
   "metadata": {},
   "cell_type": "code",
   "source": [
    "num_movies = bolly.value_counts()\n",
    "num_movies[num_movies>20]"
   ],
   "id": "2e3510cd3a595962",
   "outputs": [],
   "execution_count": null
  },
  {
   "metadata": {
    "ExecuteTime": {
     "end_time": "2025-05-09T04:40:24.212465Z",
     "start_time": "2025-05-08T00:58:32.946195Z"
    }
   },
   "cell_type": "code",
   "source": "subs.plot()",
   "id": "b46145e5b225d73a",
   "outputs": [
    {
     "name": "stderr",
     "output_type": "stream",
     "text": [
      "Matplotlib is building the font cache; this may take a moment.\n"
     ]
    },
    {
     "data": {
      "text/plain": [
       "<Axes: >"
      ]
     },
     "execution_count": 203,
     "metadata": {},
     "output_type": "execute_result"
    },
    {
     "data": {
      "text/plain": [
       "<Figure size 640x480 with 1 Axes>"
      ],
      "image/png": "[encoded data removed]"
     },
     "metadata": {},
     "output_type": "display_data"
    }
   ],
   "execution_count": 203
  },
  {
   "metadata": {
    "ExecuteTime": {
     "end_time": "2025-05-09T04:40:24.216282Z",
     "start_time": "2025-05-08T00:59:16.469871Z"
    }
   },
   "cell_type": "code",
   "source": "kholi.plot()",
   "id": "fd3d435b3eb46b53",
   "outputs": [
    {
     "data": {
      "text/plain": [
       "<Axes: xlabel='match_no'>"
      ]
     },
     "execution_count": 204,
     "metadata": {},
     "output_type": "execute_result"
    },
    {
     "data": {
      "text/plain": [
       "<Figure size 640x480 with 1 Axes>"
      ],
      "image/png": "[encoded data removed]"
     },
     "metadata": {},
     "output_type": "display_data"
    }
   ],
   "execution_count": 204
  },
  {
   "metadata": {
    "ExecuteTime": {
     "end_time": "2025-05-09T04:40:24.219693Z",
     "start_time": "2025-05-08T01:00:53.405210Z"
    }
   },
   "cell_type": "code",
   "source": "kholi.value_counts().head(20).plot(kind='pie')",
   "id": "c16f4ac7857204c9",
   "outputs": [
    {
     "data": {
      "text/plain": [
       "<Axes: ylabel='count'>"
      ]
     },
     "execution_count": 207,
     "metadata": {},
     "output_type": "execute_result"
    },
    {
     "data": {
      "text/plain": [
       "<Figure size 640x480 with 1 Axes>"
      ],
      "image/png": "[encoded data removed]"
     },
     "metadata": {},
     "output_type": "display_data"
    }
   ],
   "execution_count": 207
  },
  {
   "metadata": {
    "ExecuteTime": {
     "end_time": "2025-05-09T04:40:59.545940Z",
     "start_time": "2025-05-09T04:40:59.521285Z"
    }
   },
   "cell_type": "code",
   "source": [
    "#astype\n",
    "kholi\n",
    "import sys\n",
    "sys.getsizeof(kholi)\n"
   ],
   "id": "b5bc380d3cd12d7c",
   "outputs": [
    {
     "data": {
      "text/plain": [
       "3472"
      ]
     },
     "execution_count": 45,
     "metadata": {},
     "output_type": "execute_result"
    }
   ],
   "execution_count": 45
  },
  {
   "metadata": {
    "ExecuteTime": {
     "end_time": "2025-05-09T04:41:38.378965Z",
     "start_time": "2025-05-09T04:41:38.356368Z"
    }
   },
   "cell_type": "code",
   "source": "kholi.astype('int16')",
   "id": "43ae758121bab482",
   "outputs": [
    {
     "data": {
      "text/plain": [
       "          runs\n",
       "match_no      \n",
       "1            1\n",
       "2           23\n",
       "3           13\n",
       "4           12\n",
       "5            1\n",
       "...        ...\n",
       "211          0\n",
       "212         20\n",
       "213         73\n",
       "214         25\n",
       "215          7\n",
       "\n",
       "[215 rows x 1 columns]"
      ],
      "text/html": [
       "<div>\n",
       "<style scoped>\n",
       "    .dataframe tbody tr th:only-of-type {\n",
       "        vertical-align: middle;\n",
       "    }\n",
       "\n",
       "    .dataframe tbody tr th {\n",
       "        vertical-align: top;\n",
       "    }\n",
       "\n",
       "    .dataframe thead th {\n",
       "        text-align: right;\n",
       "    }\n",
       "</style>\n",
       "<table border=\"1\" class=\"dataframe\">\n",
       "  <thead>\n",
       "    <tr style=\"text-align: right;\">\n",
       "      <th></th>\n",
       "      <th>runs</th>\n",
       "    </tr>\n",
       "    <tr>\n",
       "      <th>match_no</th>\n",
       "      <th></th>\n",
       "    </tr>\n",
       "  </thead>\n",
       "  <tbody>\n",
       "    <tr>\n",
       "      <th>1</th>\n",
       "      <td>1</td>\n",
       "    </tr>\n",
       "    <tr>\n",
       "      <th>2</th>\n",
       "      <td>23</td>\n",
       "    </tr>\n",
       "    <tr>\n",
       "      <th>3</th>\n",
       "      <td>13</td>\n",
       "    </tr>\n",
       "    <tr>\n",
       "      <th>4</th>\n",
       "      <td>12</td>\n",
       "    </tr>\n",
       "    <tr>\n",
       "      <th>5</th>\n",
       "      <td>1</td>\n",
       "    </tr>\n",
       "    <tr>\n",
       "      <th>...</th>\n",
       "      <td>...</td>\n",
       "    </tr>\n",
       "    <tr>\n",
       "      <th>211</th>\n",
       "      <td>0</td>\n",
       "    </tr>\n",
       "    <tr>\n",
       "      <th>212</th>\n",
       "      <td>20</td>\n",
       "    </tr>\n",
       "    <tr>\n",
       "      <th>213</th>\n",
       "      <td>73</td>\n",
       "    </tr>\n",
       "    <tr>\n",
       "      <th>214</th>\n",
       "      <td>25</td>\n",
       "    </tr>\n",
       "    <tr>\n",
       "      <th>215</th>\n",
       "      <td>7</td>\n",
       "    </tr>\n",
       "  </tbody>\n",
       "</table>\n",
       "<p>215 rows × 1 columns</p>\n",
       "</div>"
      ]
     },
     "execution_count": 46,
     "metadata": {},
     "output_type": "execute_result"
    }
   ],
   "execution_count": 46
  },
  {
   "metadata": {
    "ExecuteTime": {
     "end_time": "2025-05-09T04:44:36.823481Z",
     "start_time": "2025-05-09T04:44:36.807992Z"
    }
   },
   "cell_type": "code",
   "source": [
    "#between\n",
    "kholi[kholi.between(2,40)].size"
   ],
   "id": "58ffe4742009d54b",
   "outputs": [
    {
     "ename": "AttributeError",
     "evalue": "'DataFrame' object has no attribute 'between'",
     "output_type": "error",
     "traceback": [
      "\u001B[31m---------------------------------------------------------------------------\u001B[39m",
      "\u001B[31mAttributeError\u001B[39m                            Traceback (most recent call last)",
      "\u001B[32m/var/folders/_f/zl0q66xj7vj0hl3533pby62w0000gn/T/ipykernel_51864/2806419234.py\u001B[39m in \u001B[36m?\u001B[39m\u001B[34m()\u001B[39m\n\u001B[32m      1\u001B[39m \u001B[38;5;66;03m#between\u001B[39;00m\n\u001B[32m----> \u001B[39m\u001B[32m2\u001B[39m kholi[kholi.between(\u001B[32m2\u001B[39m,\u001B[32m40\u001B[39m)].size\n",
      "\u001B[32m~/PyCharmMiscProject/.venv/lib/python3.13/site-packages/pandas/core/generic.py\u001B[39m in \u001B[36m?\u001B[39m\u001B[34m(self, name)\u001B[39m\n\u001B[32m   6295\u001B[39m             \u001B[38;5;28;01mand\u001B[39;00m name \u001B[38;5;28;01mnot\u001B[39;00m \u001B[38;5;28;01min\u001B[39;00m self._accessors\n\u001B[32m   6296\u001B[39m             \u001B[38;5;28;01mand\u001B[39;00m self._info_axis._can_hold_identifiers_and_holds_name(name)\n\u001B[32m   6297\u001B[39m         ):\n\u001B[32m   6298\u001B[39m             \u001B[38;5;28;01mreturn\u001B[39;00m self[name]\n\u001B[32m-> \u001B[39m\u001B[32m6299\u001B[39m         \u001B[38;5;28;01mreturn\u001B[39;00m object.__getattribute__(self, name)\n",
      "\u001B[31mAttributeError\u001B[39m: 'DataFrame' object has no attribute 'between'"
     ]
    }
   ],
   "execution_count": 65
  },
  {
   "metadata": {
    "ExecuteTime": {
     "end_time": "2025-05-09T04:45:11.196747Z",
     "start_time": "2025-05-09T04:45:11.174261Z"
    }
   },
   "cell_type": "code",
   "source": [
    "#clip\n",
    "subs.clip(100,200)"
   ],
   "id": "bef182ff9028a5de",
   "outputs": [
    {
     "data": {
      "text/plain": [
       "     Subscribers gained\n",
       "0                   100\n",
       "1                   100\n",
       "2                   100\n",
       "3                   100\n",
       "4                   100\n",
       "..                  ...\n",
       "360                 200\n",
       "361                 200\n",
       "362                 155\n",
       "363                 144\n",
       "364                 172\n",
       "\n",
       "[365 rows x 1 columns]"
      ],
      "text/html": [
       "<div>\n",
       "<style scoped>\n",
       "    .dataframe tbody tr th:only-of-type {\n",
       "        vertical-align: middle;\n",
       "    }\n",
       "\n",
       "    .dataframe tbody tr th {\n",
       "        vertical-align: top;\n",
       "    }\n",
       "\n",
       "    .dataframe thead th {\n",
       "        text-align: right;\n",
       "    }\n",
       "</style>\n",
       "<table border=\"1\" class=\"dataframe\">\n",
       "  <thead>\n",
       "    <tr style=\"text-align: right;\">\n",
       "      <th></th>\n",
       "      <th>Subscribers gained</th>\n",
       "    </tr>\n",
       "  </thead>\n",
       "  <tbody>\n",
       "    <tr>\n",
       "      <th>0</th>\n",
       "      <td>100</td>\n",
       "    </tr>\n",
       "    <tr>\n",
       "      <th>1</th>\n",
       "      <td>100</td>\n",
       "    </tr>\n",
       "    <tr>\n",
       "      <th>2</th>\n",
       "      <td>100</td>\n",
       "    </tr>\n",
       "    <tr>\n",
       "      <th>3</th>\n",
       "      <td>100</td>\n",
       "    </tr>\n",
       "    <tr>\n",
       "      <th>4</th>\n",
       "      <td>100</td>\n",
       "    </tr>\n",
       "    <tr>\n",
       "      <th>...</th>\n",
       "      <td>...</td>\n",
       "    </tr>\n",
       "    <tr>\n",
       "      <th>360</th>\n",
       "      <td>200</td>\n",
       "    </tr>\n",
       "    <tr>\n",
       "      <th>361</th>\n",
       "      <td>200</td>\n",
       "    </tr>\n",
       "    <tr>\n",
       "      <th>362</th>\n",
       "      <td>155</td>\n",
       "    </tr>\n",
       "    <tr>\n",
       "      <th>363</th>\n",
       "      <td>144</td>\n",
       "    </tr>\n",
       "    <tr>\n",
       "      <th>364</th>\n",
       "      <td>172</td>\n",
       "    </tr>\n",
       "  </tbody>\n",
       "</table>\n",
       "<p>365 rows × 1 columns</p>\n",
       "</div>"
      ]
     },
     "execution_count": 66,
     "metadata": {},
     "output_type": "execute_result"
    }
   ],
   "execution_count": 66
  },
  {
   "metadata": {
    "ExecuteTime": {
     "end_time": "2025-05-09T04:46:28.327277Z",
     "start_time": "2025-05-09T04:46:28.323567Z"
    }
   },
   "cell_type": "code",
   "source": [
    "# drop_duplicate\n",
    "temp = pd.Series([1,2,3,3,4,5,5,6])\n",
    "temp"
   ],
   "id": "3b416db2407146f7",
   "outputs": [
    {
     "data": {
      "text/plain": [
       "0    1\n",
       "1    2\n",
       "2    3\n",
       "3    3\n",
       "4    4\n",
       "5    5\n",
       "6    5\n",
       "7    6\n",
       "dtype: int64"
      ]
     },
     "execution_count": 70,
     "metadata": {},
     "output_type": "execute_result"
    }
   ],
   "execution_count": 70
  },
  {
   "metadata": {
    "ExecuteTime": {
     "end_time": "2025-05-09T04:47:01.753629Z",
     "start_time": "2025-05-09T04:47:01.735425Z"
    }
   },
   "cell_type": "code",
   "source": "temp.drop_duplicates()",
   "id": "fe27245d0592d65",
   "outputs": [
    {
     "data": {
      "text/plain": [
       "0    1\n",
       "1    2\n",
       "2    3\n",
       "4    4\n",
       "5    5\n",
       "7    6\n",
       "dtype: int64"
      ]
     },
     "execution_count": 71,
     "metadata": {},
     "output_type": "execute_result"
    }
   ],
   "execution_count": 71
  },
  {
   "metadata": {
    "ExecuteTime": {
     "end_time": "2025-05-09T04:47:37.752962Z",
     "start_time": "2025-05-09T04:47:37.738144Z"
    }
   },
   "cell_type": "code",
   "source": "temp.drop_duplicates(keep='last')",
   "id": "75a66ce160720f02",
   "outputs": [
    {
     "data": {
      "text/plain": [
       "0    1\n",
       "1    2\n",
       "3    3\n",
       "4    4\n",
       "6    5\n",
       "7    6\n",
       "dtype: int64"
      ]
     },
     "execution_count": 72,
     "metadata": {},
     "output_type": "execute_result"
    }
   ],
   "execution_count": 72
  },
  {
   "metadata": {
    "ExecuteTime": {
     "end_time": "2025-05-09T04:48:06.055777Z",
     "start_time": "2025-05-09T04:48:06.039091Z"
    }
   },
   "cell_type": "code",
   "source": "temp.duplicated().sum()",
   "id": "95bea338b34ca1d0",
   "outputs": [
    {
     "data": {
      "text/plain": [
       "np.int64(2)"
      ]
     },
     "execution_count": 73,
     "metadata": {},
     "output_type": "execute_result"
    }
   ],
   "execution_count": 73
  },
  {
   "metadata": {
    "ExecuteTime": {
     "end_time": "2025-05-09T04:49:46.716351Z",
     "start_time": "2025-05-09T04:49:46.712349Z"
    }
   },
   "cell_type": "code",
   "source": "temp.size",
   "id": "89b52374051f6b53",
   "outputs": [
    {
     "data": {
      "text/plain": [
       "8"
      ]
     },
     "execution_count": 76,
     "metadata": {},
     "output_type": "execute_result"
    }
   ],
   "execution_count": 76
  },
  {
   "metadata": {
    "ExecuteTime": {
     "end_time": "2025-05-09T04:50:07.215705Z",
     "start_time": "2025-05-09T04:50:07.206994Z"
    }
   },
   "cell_type": "code",
   "source": "temp.count()",
   "id": "cbf33b3f95f91a73",
   "outputs": [
    {
     "data": {
      "text/plain": [
       "np.int64(8)"
      ]
     },
     "execution_count": 77,
     "metadata": {},
     "output_type": "execute_result"
    }
   ],
   "execution_count": 77
  },
  {
   "metadata": {
    "ExecuteTime": {
     "end_time": "2025-05-09T04:50:27.676283Z",
     "start_time": "2025-05-09T04:50:27.652706Z"
    }
   },
   "cell_type": "code",
   "source": [
    "#isnull\n",
    "kholi.isnull().sum()"
   ],
   "id": "81ddb08d5fb4af16",
   "outputs": [
    {
     "data": {
      "text/plain": [
       "runs    0\n",
       "dtype: int64"
      ]
     },
     "execution_count": 78,
     "metadata": {},
     "output_type": "execute_result"
    }
   ],
   "execution_count": 78
  },
  {
   "metadata": {
    "ExecuteTime": {
     "end_time": "2025-05-09T04:50:57.552518Z",
     "start_time": "2025-05-09T04:50:57.531628Z"
    }
   },
   "cell_type": "code",
   "source": [
    "#dropna\n",
    "temp.dropna()"
   ],
   "id": "435f33d58510f5b4",
   "outputs": [
    {
     "data": {
      "text/plain": [
       "0    1\n",
       "1    2\n",
       "2    3\n",
       "3    3\n",
       "4    4\n",
       "5    5\n",
       "6    5\n",
       "7    6\n",
       "dtype: int64"
      ]
     },
     "execution_count": 79,
     "metadata": {},
     "output_type": "execute_result"
    }
   ],
   "execution_count": 79
  },
  {
   "metadata": {
    "ExecuteTime": {
     "end_time": "2025-05-09T04:51:24.840238Z",
     "start_time": "2025-05-09T04:51:24.820251Z"
    }
   },
   "cell_type": "code",
   "source": [
    "#fillna\n",
    "temp.fillna(0)"
   ],
   "id": "f86f7319632578eb",
   "outputs": [
    {
     "data": {
      "text/plain": [
       "0    1\n",
       "1    2\n",
       "2    3\n",
       "3    3\n",
       "4    4\n",
       "5    5\n",
       "6    5\n",
       "7    6\n",
       "dtype: int64"
      ]
     },
     "execution_count": 80,
     "metadata": {},
     "output_type": "execute_result"
    }
   ],
   "execution_count": 80
  },
  {
   "metadata": {
    "ExecuteTime": {
     "end_time": "2025-05-09T04:52:01.266154Z",
     "start_time": "2025-05-09T04:52:01.252961Z"
    }
   },
   "cell_type": "code",
   "source": "temp.fillna(temp.mean())",
   "id": "dbc6512e310945",
   "outputs": [
    {
     "data": {
      "text/plain": [
       "0    1\n",
       "1    2\n",
       "2    3\n",
       "3    3\n",
       "4    4\n",
       "5    5\n",
       "6    5\n",
       "7    6\n",
       "dtype: int64"
      ]
     },
     "execution_count": 81,
     "metadata": {},
     "output_type": "execute_result"
    }
   ],
   "execution_count": 81
  },
  {
   "metadata": {
    "ExecuteTime": {
     "end_time": "2025-05-09T04:53:23.829743Z",
     "start_time": "2025-05-09T04:53:23.805530Z"
    }
   },
   "cell_type": "code",
   "source": [
    "#isin\n",
    "\n",
    "kholi[kholi.isin([49,99])]"
   ],
   "id": "bd2ca85b3a04876d",
   "outputs": [
    {
     "data": {
      "text/plain": [
       "          runs\n",
       "match_no      \n",
       "1          NaN\n",
       "2          NaN\n",
       "3          NaN\n",
       "4          NaN\n",
       "5          NaN\n",
       "...        ...\n",
       "211        NaN\n",
       "212        NaN\n",
       "213        NaN\n",
       "214        NaN\n",
       "215        NaN\n",
       "\n",
       "[215 rows x 1 columns]"
      ],
      "text/html": [
       "<div>\n",
       "<style scoped>\n",
       "    .dataframe tbody tr th:only-of-type {\n",
       "        vertical-align: middle;\n",
       "    }\n",
       "\n",
       "    .dataframe tbody tr th {\n",
       "        vertical-align: top;\n",
       "    }\n",
       "\n",
       "    .dataframe thead th {\n",
       "        text-align: right;\n",
       "    }\n",
       "</style>\n",
       "<table border=\"1\" class=\"dataframe\">\n",
       "  <thead>\n",
       "    <tr style=\"text-align: right;\">\n",
       "      <th></th>\n",
       "      <th>runs</th>\n",
       "    </tr>\n",
       "    <tr>\n",
       "      <th>match_no</th>\n",
       "      <th></th>\n",
       "    </tr>\n",
       "  </thead>\n",
       "  <tbody>\n",
       "    <tr>\n",
       "      <th>1</th>\n",
       "      <td>NaN</td>\n",
       "    </tr>\n",
       "    <tr>\n",
       "      <th>2</th>\n",
       "      <td>NaN</td>\n",
       "    </tr>\n",
       "    <tr>\n",
       "      <th>3</th>\n",
       "      <td>NaN</td>\n",
       "    </tr>\n",
       "    <tr>\n",
       "      <th>4</th>\n",
       "      <td>NaN</td>\n",
       "    </tr>\n",
       "    <tr>\n",
       "      <th>5</th>\n",
       "      <td>NaN</td>\n",
       "    </tr>\n",
       "    <tr>\n",
       "      <th>...</th>\n",
       "      <td>...</td>\n",
       "    </tr>\n",
       "    <tr>\n",
       "      <th>211</th>\n",
       "      <td>NaN</td>\n",
       "    </tr>\n",
       "    <tr>\n",
       "      <th>212</th>\n",
       "      <td>NaN</td>\n",
       "    </tr>\n",
       "    <tr>\n",
       "      <th>213</th>\n",
       "      <td>NaN</td>\n",
       "    </tr>\n",
       "    <tr>\n",
       "      <th>214</th>\n",
       "      <td>NaN</td>\n",
       "    </tr>\n",
       "    <tr>\n",
       "      <th>215</th>\n",
       "      <td>NaN</td>\n",
       "    </tr>\n",
       "  </tbody>\n",
       "</table>\n",
       "<p>215 rows × 1 columns</p>\n",
       "</div>"
      ]
     },
     "execution_count": 83,
     "metadata": {},
     "output_type": "execute_result"
    }
   ],
   "execution_count": 83
  },
  {
   "metadata": {
    "ExecuteTime": {
     "end_time": "2025-05-09T04:55:41.742117Z",
     "start_time": "2025-05-09T04:55:41.736656Z"
    }
   },
   "cell_type": "code",
   "source": [
    "#apply\n",
    "bolly.apply(lambda x:x.isnull())"
   ],
   "id": "fadaa031a4b75ffd",
   "outputs": [
    {
     "data": {
      "text/plain": [
       "                                       lead\n",
       "movie                                      \n",
       "Uri: The Surgical Strike              False\n",
       "Battalion 609                         False\n",
       "The Accidental Prime Minister (film)  False\n",
       "Why Cheat India                       False\n",
       "Evening Shadows                       False\n",
       "...                                     ...\n",
       "Hum Tumhare Hain Sanam                False\n",
       "Aankhen (2002 film)                   False\n",
       "Saathiya (film)                       False\n",
       "Company (film)                        False\n",
       "Awara Paagal Deewana                  False\n",
       "\n",
       "[1500 rows x 1 columns]"
      ],
      "text/html": [
       "<div>\n",
       "<style scoped>\n",
       "    .dataframe tbody tr th:only-of-type {\n",
       "        vertical-align: middle;\n",
       "    }\n",
       "\n",
       "    .dataframe tbody tr th {\n",
       "        vertical-align: top;\n",
       "    }\n",
       "\n",
       "    .dataframe thead th {\n",
       "        text-align: right;\n",
       "    }\n",
       "</style>\n",
       "<table border=\"1\" class=\"dataframe\">\n",
       "  <thead>\n",
       "    <tr style=\"text-align: right;\">\n",
       "      <th></th>\n",
       "      <th>lead</th>\n",
       "    </tr>\n",
       "    <tr>\n",
       "      <th>movie</th>\n",
       "      <th></th>\n",
       "    </tr>\n",
       "  </thead>\n",
       "  <tbody>\n",
       "    <tr>\n",
       "      <th>Uri: The Surgical Strike</th>\n",
       "      <td>False</td>\n",
       "    </tr>\n",
       "    <tr>\n",
       "      <th>Battalion 609</th>\n",
       "      <td>False</td>\n",
       "    </tr>\n",
       "    <tr>\n",
       "      <th>The Accidental Prime Minister (film)</th>\n",
       "      <td>False</td>\n",
       "    </tr>\n",
       "    <tr>\n",
       "      <th>Why Cheat India</th>\n",
       "      <td>False</td>\n",
       "    </tr>\n",
       "    <tr>\n",
       "      <th>Evening Shadows</th>\n",
       "      <td>False</td>\n",
       "    </tr>\n",
       "    <tr>\n",
       "      <th>...</th>\n",
       "      <td>...</td>\n",
       "    </tr>\n",
       "    <tr>\n",
       "      <th>Hum Tumhare Hain Sanam</th>\n",
       "      <td>False</td>\n",
       "    </tr>\n",
       "    <tr>\n",
       "      <th>Aankhen (2002 film)</th>\n",
       "      <td>False</td>\n",
       "    </tr>\n",
       "    <tr>\n",
       "      <th>Saathiya (film)</th>\n",
       "      <td>False</td>\n",
       "    </tr>\n",
       "    <tr>\n",
       "      <th>Company (film)</th>\n",
       "      <td>False</td>\n",
       "    </tr>\n",
       "    <tr>\n",
       "      <th>Awara Paagal Deewana</th>\n",
       "      <td>False</td>\n",
       "    </tr>\n",
       "  </tbody>\n",
       "</table>\n",
       "<p>1500 rows × 1 columns</p>\n",
       "</div>"
      ]
     },
     "execution_count": 88,
     "metadata": {},
     "output_type": "execute_result"
    }
   ],
   "execution_count": 88
  },
  {
   "metadata": {
    "ExecuteTime": {
     "end_time": "2025-05-09T04:56:22.802574Z",
     "start_time": "2025-05-09T04:56:22.790510Z"
    }
   },
   "cell_type": "code",
   "source": "subs.mean()",
   "id": "199108df1a5bb0",
   "outputs": [
    {
     "data": {
      "text/plain": [
       "Subscribers gained    135.643836\n",
       "dtype: float64"
      ]
     },
     "execution_count": 89,
     "metadata": {},
     "output_type": "execute_result"
    }
   ],
   "execution_count": 89
  },
  {
   "metadata": {
    "ExecuteTime": {
     "end_time": "2025-05-09T04:58:35.884883Z",
     "start_time": "2025-05-09T04:58:35.790590Z"
    }
   },
   "cell_type": "code",
   "source": "kholi.apply(lambda x:'good day' if  x > kholi.mean() else 'bad day')",
   "id": "dcdb3c0c6059ae6e",
   "outputs": [
    {
     "ename": "ValueError",
     "evalue": "Can only compare identically-labeled Series objects",
     "output_type": "error",
     "traceback": [
      "\u001B[31m---------------------------------------------------------------------------\u001B[39m",
      "\u001B[31mValueError\u001B[39m                                Traceback (most recent call last)",
      "\u001B[36mCell\u001B[39m\u001B[36m \u001B[39m\u001B[32mIn[94]\u001B[39m\u001B[32m, line 1\u001B[39m\n\u001B[32m----> \u001B[39m\u001B[32m1\u001B[39m \u001B[43mkholi\u001B[49m\u001B[43m.\u001B[49m\u001B[43mapply\u001B[49m\u001B[43m(\u001B[49m\u001B[38;5;28;43;01mlambda\u001B[39;49;00m\u001B[43m \u001B[49m\u001B[43mx\u001B[49m\u001B[43m:\u001B[49m\u001B[33;43m'\u001B[39;49m\u001B[33;43mgood day\u001B[39;49m\u001B[33;43m'\u001B[39;49m\u001B[43m \u001B[49m\u001B[38;5;28;43;01mif\u001B[39;49;00m\u001B[43m  \u001B[49m\u001B[43mx\u001B[49m\u001B[43m \u001B[49m\u001B[43m>\u001B[49m\u001B[43m \u001B[49m\u001B[43mkholi\u001B[49m\u001B[43m.\u001B[49m\u001B[43mmean\u001B[49m\u001B[43m(\u001B[49m\u001B[43m)\u001B[49m\u001B[43m \u001B[49m\u001B[38;5;28;43;01melse\u001B[39;49;00m\u001B[43m \u001B[49m\u001B[33;43m'\u001B[39;49m\u001B[33;43mbad day\u001B[39;49m\u001B[33;43m'\u001B[39;49m\u001B[43m)\u001B[49m\n",
      "\u001B[36mFile \u001B[39m\u001B[32m~/PyCharmMiscProject/.venv/lib/python3.13/site-packages/pandas/core/frame.py:10374\u001B[39m, in \u001B[36mDataFrame.apply\u001B[39m\u001B[34m(self, func, axis, raw, result_type, args, by_row, engine, engine_kwargs, **kwargs)\u001B[39m\n\u001B[32m  10360\u001B[39m \u001B[38;5;28;01mfrom\u001B[39;00m\u001B[38;5;250m \u001B[39m\u001B[34;01mpandas\u001B[39;00m\u001B[34;01m.\u001B[39;00m\u001B[34;01mcore\u001B[39;00m\u001B[34;01m.\u001B[39;00m\u001B[34;01mapply\u001B[39;00m\u001B[38;5;250m \u001B[39m\u001B[38;5;28;01mimport\u001B[39;00m frame_apply\n\u001B[32m  10362\u001B[39m op = frame_apply(\n\u001B[32m  10363\u001B[39m     \u001B[38;5;28mself\u001B[39m,\n\u001B[32m  10364\u001B[39m     func=func,\n\u001B[32m   (...)\u001B[39m\u001B[32m  10372\u001B[39m     kwargs=kwargs,\n\u001B[32m  10373\u001B[39m )\n\u001B[32m> \u001B[39m\u001B[32m10374\u001B[39m \u001B[38;5;28;01mreturn\u001B[39;00m \u001B[43mop\u001B[49m\u001B[43m.\u001B[49m\u001B[43mapply\u001B[49m\u001B[43m(\u001B[49m\u001B[43m)\u001B[49m.__finalize__(\u001B[38;5;28mself\u001B[39m, method=\u001B[33m\"\u001B[39m\u001B[33mapply\u001B[39m\u001B[33m\"\u001B[39m)\n",
      "\u001B[36mFile \u001B[39m\u001B[32m~/PyCharmMiscProject/.venv/lib/python3.13/site-packages/pandas/core/apply.py:916\u001B[39m, in \u001B[36mFrameApply.apply\u001B[39m\u001B[34m(self)\u001B[39m\n\u001B[32m    913\u001B[39m \u001B[38;5;28;01melif\u001B[39;00m \u001B[38;5;28mself\u001B[39m.raw:\n\u001B[32m    914\u001B[39m     \u001B[38;5;28;01mreturn\u001B[39;00m \u001B[38;5;28mself\u001B[39m.apply_raw(engine=\u001B[38;5;28mself\u001B[39m.engine, engine_kwargs=\u001B[38;5;28mself\u001B[39m.engine_kwargs)\n\u001B[32m--> \u001B[39m\u001B[32m916\u001B[39m \u001B[38;5;28;01mreturn\u001B[39;00m \u001B[38;5;28;43mself\u001B[39;49m\u001B[43m.\u001B[49m\u001B[43mapply_standard\u001B[49m\u001B[43m(\u001B[49m\u001B[43m)\u001B[49m\n",
      "\u001B[36mFile \u001B[39m\u001B[32m~/PyCharmMiscProject/.venv/lib/python3.13/site-packages/pandas/core/apply.py:1063\u001B[39m, in \u001B[36mFrameApply.apply_standard\u001B[39m\u001B[34m(self)\u001B[39m\n\u001B[32m   1061\u001B[39m \u001B[38;5;28;01mdef\u001B[39;00m\u001B[38;5;250m \u001B[39m\u001B[34mapply_standard\u001B[39m(\u001B[38;5;28mself\u001B[39m):\n\u001B[32m   1062\u001B[39m     \u001B[38;5;28;01mif\u001B[39;00m \u001B[38;5;28mself\u001B[39m.engine == \u001B[33m\"\u001B[39m\u001B[33mpython\u001B[39m\u001B[33m\"\u001B[39m:\n\u001B[32m-> \u001B[39m\u001B[32m1063\u001B[39m         results, res_index = \u001B[38;5;28;43mself\u001B[39;49m\u001B[43m.\u001B[49m\u001B[43mapply_series_generator\u001B[49m\u001B[43m(\u001B[49m\u001B[43m)\u001B[49m\n\u001B[32m   1064\u001B[39m     \u001B[38;5;28;01melse\u001B[39;00m:\n\u001B[32m   1065\u001B[39m         results, res_index = \u001B[38;5;28mself\u001B[39m.apply_series_numba()\n",
      "\u001B[36mFile \u001B[39m\u001B[32m~/PyCharmMiscProject/.venv/lib/python3.13/site-packages/pandas/core/apply.py:1081\u001B[39m, in \u001B[36mFrameApply.apply_series_generator\u001B[39m\u001B[34m(self)\u001B[39m\n\u001B[32m   1078\u001B[39m \u001B[38;5;28;01mwith\u001B[39;00m option_context(\u001B[33m\"\u001B[39m\u001B[33mmode.chained_assignment\u001B[39m\u001B[33m\"\u001B[39m, \u001B[38;5;28;01mNone\u001B[39;00m):\n\u001B[32m   1079\u001B[39m     \u001B[38;5;28;01mfor\u001B[39;00m i, v \u001B[38;5;129;01min\u001B[39;00m \u001B[38;5;28menumerate\u001B[39m(series_gen):\n\u001B[32m   1080\u001B[39m         \u001B[38;5;66;03m# ignore SettingWithCopy here in case the user mutates\u001B[39;00m\n\u001B[32m-> \u001B[39m\u001B[32m1081\u001B[39m         results[i] = \u001B[38;5;28;43mself\u001B[39;49m\u001B[43m.\u001B[49m\u001B[43mfunc\u001B[49m\u001B[43m(\u001B[49m\u001B[43mv\u001B[49m\u001B[43m,\u001B[49m\u001B[43m \u001B[49m\u001B[43m*\u001B[49m\u001B[38;5;28;43mself\u001B[39;49m\u001B[43m.\u001B[49m\u001B[43margs\u001B[49m\u001B[43m,\u001B[49m\u001B[43m \u001B[49m\u001B[43m*\u001B[49m\u001B[43m*\u001B[49m\u001B[38;5;28;43mself\u001B[39;49m\u001B[43m.\u001B[49m\u001B[43mkwargs\u001B[49m\u001B[43m)\u001B[49m\n\u001B[32m   1082\u001B[39m         \u001B[38;5;28;01mif\u001B[39;00m \u001B[38;5;28misinstance\u001B[39m(results[i], ABCSeries):\n\u001B[32m   1083\u001B[39m             \u001B[38;5;66;03m# If we have a view on v, we need to make a copy because\u001B[39;00m\n\u001B[32m   1084\u001B[39m             \u001B[38;5;66;03m#  series_generator will swap out the underlying data\u001B[39;00m\n\u001B[32m   1085\u001B[39m             results[i] = results[i].copy(deep=\u001B[38;5;28;01mFalse\u001B[39;00m)\n",
      "\u001B[36mCell\u001B[39m\u001B[36m \u001B[39m\u001B[32mIn[94]\u001B[39m\u001B[32m, line 1\u001B[39m, in \u001B[36m<lambda>\u001B[39m\u001B[34m(x)\u001B[39m\n\u001B[32m----> \u001B[39m\u001B[32m1\u001B[39m kholi.apply(\u001B[38;5;28;01mlambda\u001B[39;00m x:\u001B[33m'\u001B[39m\u001B[33mgood day\u001B[39m\u001B[33m'\u001B[39m \u001B[38;5;28;01mif\u001B[39;00m  \u001B[43mx\u001B[49m\u001B[43m \u001B[49m\u001B[43m>\u001B[49m\u001B[43m \u001B[49m\u001B[43mkholi\u001B[49m\u001B[43m.\u001B[49m\u001B[43mmean\u001B[49m\u001B[43m(\u001B[49m\u001B[43m)\u001B[49m \u001B[38;5;28;01melse\u001B[39;00m \u001B[33m'\u001B[39m\u001B[33mbad day\u001B[39m\u001B[33m'\u001B[39m)\n",
      "\u001B[36mFile \u001B[39m\u001B[32m~/PyCharmMiscProject/.venv/lib/python3.13/site-packages/pandas/core/ops/common.py:76\u001B[39m, in \u001B[36m_unpack_zerodim_and_defer.<locals>.new_method\u001B[39m\u001B[34m(self, other)\u001B[39m\n\u001B[32m     72\u001B[39m             \u001B[38;5;28;01mreturn\u001B[39;00m \u001B[38;5;28mNotImplemented\u001B[39m\n\u001B[32m     74\u001B[39m other = item_from_zerodim(other)\n\u001B[32m---> \u001B[39m\u001B[32m76\u001B[39m \u001B[38;5;28;01mreturn\u001B[39;00m \u001B[43mmethod\u001B[49m\u001B[43m(\u001B[49m\u001B[38;5;28;43mself\u001B[39;49m\u001B[43m,\u001B[49m\u001B[43m \u001B[49m\u001B[43mother\u001B[49m\u001B[43m)\u001B[49m\n",
      "\u001B[36mFile \u001B[39m\u001B[32m~/PyCharmMiscProject/.venv/lib/python3.13/site-packages/pandas/core/arraylike.py:56\u001B[39m, in \u001B[36mOpsMixin.__gt__\u001B[39m\u001B[34m(self, other)\u001B[39m\n\u001B[32m     54\u001B[39m \u001B[38;5;129m@unpack_zerodim_and_defer\u001B[39m(\u001B[33m\"\u001B[39m\u001B[33m__gt__\u001B[39m\u001B[33m\"\u001B[39m)\n\u001B[32m     55\u001B[39m \u001B[38;5;28;01mdef\u001B[39;00m\u001B[38;5;250m \u001B[39m\u001B[34m__gt__\u001B[39m(\u001B[38;5;28mself\u001B[39m, other):\n\u001B[32m---> \u001B[39m\u001B[32m56\u001B[39m     \u001B[38;5;28;01mreturn\u001B[39;00m \u001B[38;5;28;43mself\u001B[39;49m\u001B[43m.\u001B[49m\u001B[43m_cmp_method\u001B[49m\u001B[43m(\u001B[49m\u001B[43mother\u001B[49m\u001B[43m,\u001B[49m\u001B[43m \u001B[49m\u001B[43moperator\u001B[49m\u001B[43m.\u001B[49m\u001B[43mgt\u001B[49m\u001B[43m)\u001B[49m\n",
      "\u001B[36mFile \u001B[39m\u001B[32m~/PyCharmMiscProject/.venv/lib/python3.13/site-packages/pandas/core/series.py:6114\u001B[39m, in \u001B[36mSeries._cmp_method\u001B[39m\u001B[34m(self, other, op)\u001B[39m\n\u001B[32m   6111\u001B[39m res_name = ops.get_op_result_name(\u001B[38;5;28mself\u001B[39m, other)\n\u001B[32m   6113\u001B[39m \u001B[38;5;28;01mif\u001B[39;00m \u001B[38;5;28misinstance\u001B[39m(other, Series) \u001B[38;5;129;01mand\u001B[39;00m \u001B[38;5;129;01mnot\u001B[39;00m \u001B[38;5;28mself\u001B[39m._indexed_same(other):\n\u001B[32m-> \u001B[39m\u001B[32m6114\u001B[39m     \u001B[38;5;28;01mraise\u001B[39;00m \u001B[38;5;167;01mValueError\u001B[39;00m(\u001B[33m\"\u001B[39m\u001B[33mCan only compare identically-labeled Series objects\u001B[39m\u001B[33m\"\u001B[39m)\n\u001B[32m   6116\u001B[39m lvalues = \u001B[38;5;28mself\u001B[39m._values\n\u001B[32m   6117\u001B[39m rvalues = extract_array(other, extract_numpy=\u001B[38;5;28;01mTrue\u001B[39;00m, extract_range=\u001B[38;5;28;01mTrue\u001B[39;00m)\n",
      "\u001B[31mValueError\u001B[39m: Can only compare identically-labeled Series objects"
     ]
    }
   ],
   "execution_count": 94
  },
  {
   "metadata": {
    "ExecuteTime": {
     "end_time": "2025-05-09T05:00:37.456183Z",
     "start_time": "2025-05-09T05:00:37.451121Z"
    }
   },
   "cell_type": "code",
   "source": [
    "#copy\n",
    "new=kholi.head()\n",
    "new[2]=2"
   ],
   "id": "7d64aae8342f8e6d",
   "outputs": [
    {
     "name": "stderr",
     "output_type": "stream",
     "text": [
      "/var/folders/_f/zl0q66xj7vj0hl3533pby62w0000gn/T/ipykernel_51864/2243469945.py:3: SettingWithCopyWarning: \n",
      "A value is trying to be set on a copy of a slice from a DataFrame.\n",
      "Try using .loc[row_indexer,col_indexer] = value instead\n",
      "\n",
      "See the caveats in the documentation: https://pandas.pydata.org/pandas-docs/stable/user_guide/indexing.html#returning-a-view-versus-a-copy\n",
      "  new[2]=2\n"
     ]
    }
   ],
   "execution_count": 104
  },
  {
   "metadata": {
    "ExecuteTime": {
     "end_time": "2025-05-09T05:00:40.276498Z",
     "start_time": "2025-05-09T05:00:40.270721Z"
    }
   },
   "cell_type": "code",
   "source": "kholi",
   "id": "d7854b3990ac2551",
   "outputs": [
    {
     "data": {
      "text/plain": [
       "          runs\n",
       "match_no      \n",
       "1            1\n",
       "2           23\n",
       "3           13\n",
       "4           12\n",
       "5            1\n",
       "...        ...\n",
       "211          0\n",
       "212         20\n",
       "213         73\n",
       "214         25\n",
       "215          7\n",
       "\n",
       "[215 rows x 1 columns]"
      ],
      "text/html": [
       "<div>\n",
       "<style scoped>\n",
       "    .dataframe tbody tr th:only-of-type {\n",
       "        vertical-align: middle;\n",
       "    }\n",
       "\n",
       "    .dataframe tbody tr th {\n",
       "        vertical-align: top;\n",
       "    }\n",
       "\n",
       "    .dataframe thead th {\n",
       "        text-align: right;\n",
       "    }\n",
       "</style>\n",
       "<table border=\"1\" class=\"dataframe\">\n",
       "  <thead>\n",
       "    <tr style=\"text-align: right;\">\n",
       "      <th></th>\n",
       "      <th>runs</th>\n",
       "    </tr>\n",
       "    <tr>\n",
       "      <th>match_no</th>\n",
       "      <th></th>\n",
       "    </tr>\n",
       "  </thead>\n",
       "  <tbody>\n",
       "    <tr>\n",
       "      <th>1</th>\n",
       "      <td>1</td>\n",
       "    </tr>\n",
       "    <tr>\n",
       "      <th>2</th>\n",
       "      <td>23</td>\n",
       "    </tr>\n",
       "    <tr>\n",
       "      <th>3</th>\n",
       "      <td>13</td>\n",
       "    </tr>\n",
       "    <tr>\n",
       "      <th>4</th>\n",
       "      <td>12</td>\n",
       "    </tr>\n",
       "    <tr>\n",
       "      <th>5</th>\n",
       "      <td>1</td>\n",
       "    </tr>\n",
       "    <tr>\n",
       "      <th>...</th>\n",
       "      <td>...</td>\n",
       "    </tr>\n",
       "    <tr>\n",
       "      <th>211</th>\n",
       "      <td>0</td>\n",
       "    </tr>\n",
       "    <tr>\n",
       "      <th>212</th>\n",
       "      <td>20</td>\n",
       "    </tr>\n",
       "    <tr>\n",
       "      <th>213</th>\n",
       "      <td>73</td>\n",
       "    </tr>\n",
       "    <tr>\n",
       "      <th>214</th>\n",
       "      <td>25</td>\n",
       "    </tr>\n",
       "    <tr>\n",
       "      <th>215</th>\n",
       "      <td>7</td>\n",
       "    </tr>\n",
       "  </tbody>\n",
       "</table>\n",
       "<p>215 rows × 1 columns</p>\n",
       "</div>"
      ]
     },
     "execution_count": 106,
     "metadata": {},
     "output_type": "execute_result"
    }
   ],
   "execution_count": 106
  }
 ],
 "metadata": {
  "kernelspec": {
   "display_name": "Python 3",
   "language": "python",
   "name": "python3"
  },
  "language_info": {
   "codemirror_mode": {
    "name": "ipython",
    "version": 2
   },
   "file_extension": ".py",
   "mimetype": "text/x-python",
   "name": "python",
   "nbconvert_exporter": "python",
   "pygments_lexer": "ipython2",
   "version": "2.7.6"
  }
 },
 "nbformat": 4,
 "nbformat_minor": 5
}
